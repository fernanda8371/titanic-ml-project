{
 "cells": [
  {
   "cell_type": "code",
   "execution_count": 162,
   "id": "5db4ea30",
   "metadata": {},
   "outputs": [],
   "source": [
    "import pandas as pd\n",
    "import numpy as np\n",
    "import matplotlib.pyplot as plt\n",
    "from sklearn.ensemble import RandomForestClassifier\n",
    "from sklearn.metrics import confusion_matrix\n",
    "from sklearn.model_selection import train_test_split\n",
    "\n",
    "import warnings\n",
    "warnings.filterwarnings(\"ignore\")\n",
    "import logging\n",
    "logging.getLogger(\"phik\").setLevel(logging.ERROR)"
   ]
  },
  {
   "cell_type": "markdown",
   "id": "bcf00515",
   "metadata": {},
   "source": [
    "# Análisis de Fairness"
   ]
  },
  {
   "cell_type": "markdown",
   "id": "3348487b",
   "metadata": {},
   "source": [
    "Modelo final: Random Forest"
   ]
  },
  {
   "cell_type": "code",
   "execution_count": 163,
   "id": "5a259b83",
   "metadata": {},
   "outputs": [],
   "source": [
    "df = pd.read_csv('../data/processed.csv')\n",
    "features = df.columns.drop('Survived')\n",
    "\n",
    "Y = df[\"Survived\"]\n",
    "X = df.drop(columns=[\"Survived\"])\n",
    "\n",
    "X_train, X_test, Y_train, Y_test = train_test_split(X, Y, test_size=0.2, random_state=42)\n",
    "b_p = [100, 7, 2, 2, 'sqrt']\n",
    "\n",
    "model = RandomForestClassifier(\n",
    "    n_estimators=b_p[0],\n",
    "    max_depth=b_p[1],\n",
    "    min_samples_split=b_p[2],\n",
    "    min_samples_leaf=b_p[3],\n",
    "    max_features=b_p[4],\n",
    "    random_state=42)\n",
    "\n",
    "model.fit(X_train, Y_train)\n",
    "\n",
    "y_pred = model.predict(X_test)\n",
    "y_proba = model.predict_proba(X_test)[:, 1] "
   ]
  },
  {
   "cell_type": "code",
   "execution_count": 164,
   "id": "69fddca7",
   "metadata": {},
   "outputs": [],
   "source": [
    "df_ = X_test.copy()\n",
    "df_['y_true'] = Y_test\n",
    "df_['y_pred'] = model.predict(X_test)\n",
    "df_['y_proba'] = model.predict_proba(X_test)[:, 1]"
   ]
  },
  {
   "cell_type": "code",
   "execution_count": 165,
   "id": "616bc1e1",
   "metadata": {},
   "outputs": [],
   "source": [
    "df_['Sex_female'] = np.logical_not(df['Sex_male']).astype(int)\n",
    "df_['Pclass_1'] = np.logical_not(df[['Pclass_2','Pclass_3']].sum(axis=1)).astype(int)\n",
    "\n",
    "df_['Female_C1'] = df_['Sex_female']*df_['Pclass_1']\n",
    "df_['Male_C3'] = df_['Sex_male']*df_['Pclass_3']"
   ]
  },
  {
   "cell_type": "markdown",
   "id": "83174386",
   "metadata": {},
   "source": [
    "Métricas de Fairness por Grupo"
   ]
  },
  {
   "cell_type": "code",
   "execution_count": 166,
   "id": "9aa32202",
   "metadata": {},
   "outputs": [
    {
     "data": {
      "text/html": [
       "<div>\n",
       "<style scoped>\n",
       "    .dataframe tbody tr th:only-of-type {\n",
       "        vertical-align: middle;\n",
       "    }\n",
       "\n",
       "    .dataframe tbody tr th {\n",
       "        vertical-align: top;\n",
       "    }\n",
       "\n",
       "    .dataframe thead th {\n",
       "        text-align: right;\n",
       "    }\n",
       "</style>\n",
       "<table border=\"1\" class=\"dataframe\">\n",
       "  <thead>\n",
       "    <tr style=\"text-align: right;\">\n",
       "      <th></th>\n",
       "      <th>TPR</th>\n",
       "      <th>FPR</th>\n",
       "      <th>Precision</th>\n",
       "      <th>Dem.Parity</th>\n",
       "    </tr>\n",
       "    <tr>\n",
       "      <th>Grupo</th>\n",
       "      <th></th>\n",
       "      <th></th>\n",
       "      <th></th>\n",
       "      <th></th>\n",
       "    </tr>\n",
       "  </thead>\n",
       "  <tbody>\n",
       "    <tr>\n",
       "      <th>1ra Clase</th>\n",
       "      <td>0.756757</td>\n",
       "      <td>0.125000</td>\n",
       "      <td>0.933333</td>\n",
       "      <td>0.566038</td>\n",
       "    </tr>\n",
       "    <tr>\n",
       "      <th>2da Clase</th>\n",
       "      <td>0.928571</td>\n",
       "      <td>0.263158</td>\n",
       "      <td>0.722222</td>\n",
       "      <td>0.545455</td>\n",
       "    </tr>\n",
       "    <tr>\n",
       "      <th>3ra Clase</th>\n",
       "      <td>0.521739</td>\n",
       "      <td>0.100000</td>\n",
       "      <td>0.631579</td>\n",
       "      <td>0.204301</td>\n",
       "    </tr>\n",
       "    <tr>\n",
       "      <th>Mujeres</th>\n",
       "      <td>0.903846</td>\n",
       "      <td>0.588235</td>\n",
       "      <td>0.824561</td>\n",
       "      <td>0.826087</td>\n",
       "    </tr>\n",
       "    <tr>\n",
       "      <th>Hombres</th>\n",
       "      <td>0.272727</td>\n",
       "      <td>0.045455</td>\n",
       "      <td>0.600000</td>\n",
       "      <td>0.090909</td>\n",
       "    </tr>\n",
       "  </tbody>\n",
       "</table>\n",
       "</div>"
      ],
      "text/plain": [
       "                TPR       FPR  Precision  Dem.Parity\n",
       "Grupo                                               \n",
       "1ra Clase  0.756757  0.125000   0.933333    0.566038\n",
       "2da Clase  0.928571  0.263158   0.722222    0.545455\n",
       "3ra Clase  0.521739  0.100000   0.631579    0.204301\n",
       "Mujeres    0.903846  0.588235   0.824561    0.826087\n",
       "Hombres    0.272727  0.045455   0.600000    0.090909"
      ]
     },
     "execution_count": 166,
     "metadata": {},
     "output_type": "execute_result"
    }
   ],
   "source": [
    "def group_metrics(df,group_labels):\n",
    "    \n",
    "    results = []\n",
    "    for g in group_labels:\n",
    "        df_ = df[df[g]==1]\n",
    "        cm = confusion_matrix(df_['y_true'].values, df_['y_pred'].values)\n",
    "        #print(cm)\n",
    "        tn, fp, fn, tp = cm.ravel()\n",
    "\n",
    "        TPR = tp / (tp + fn) if (tp+fn) > 0 else 0\n",
    "        FPR = fp / (fp + tn) if (fp+tn) > 0 else 0\n",
    "        Precision = tp / (tp + fp) if (tp+fp) > 0 else 0\n",
    "        DemParity = (tp + fp) / len(df_['y_true'].values)\n",
    "\n",
    "        results.append({\n",
    "            \"Grupo\": g,\n",
    "            \"TPR\": TPR,\n",
    "            \"FPR\": FPR,\n",
    "            \"Precision\": Precision,\n",
    "            \"Dem.Parity\": DemParity})\n",
    "    \n",
    "    results = pd.DataFrame(results).sort_values(by='Grupo')\n",
    "    return results\n",
    "\n",
    "group_labels = ['Sex_male','Sex_female', 'Pclass_1', 'Pclass_2', 'Pclass_3']\n",
    "fairness = group_metrics(df_,group_labels)\n",
    "fairness['Grupo'] = ['1ra Clase','2da Clase', '3ra Clase','Mujeres','Hombres']\n",
    "fairness.set_index('Grupo',drop=True, inplace=True)\n",
    "fairness"
   ]
  },
  {
   "cell_type": "code",
   "execution_count": 167,
   "id": "43652de0",
   "metadata": {},
   "outputs": [
    {
     "data": {
      "image/png": "[encoded data removed]",
      "text/plain": [
       "<Figure size 1000x600 with 1 Axes>"
      ]
     },
     "metadata": {},
     "output_type": "display_data"
    }
   ],
   "source": [
    "fairness.plot(kind='bar', figsize=(10,6))\n",
    "plt.title('Métricas de Fairness por Grupo')\n",
    "plt.ylabel('Valor')\n",
    "plt.ylim(0, 1)\n",
    "plt.xticks(rotation=0)\n",
    "plt.legend(title='Grupo', bbox_to_anchor=(1.05, 1), loc='upper left')\n",
    "plt.tight_layout()\n",
    "plt.show()"
   ]
  },
  {
   "cell_type": "code",
   "execution_count": 168,
   "id": "247491ad",
   "metadata": {},
   "outputs": [
    {
     "ename": "ValueError",
     "evalue": "not enough values to unpack (expected 4, got 1)",
     "output_type": "error",
     "traceback": [
      "\u001b[1;31m---------------------------------------------------------------------------\u001b[0m",
      "\u001b[1;31mValueError\u001b[0m                                Traceback (most recent call last)",
      "Cell \u001b[1;32mIn[168], line 1\u001b[0m\n\u001b[1;32m----> 1\u001b[0m fairness_inter \u001b[38;5;241m=\u001b[39m \u001b[43mgroup_metrics\u001b[49m\u001b[43m(\u001b[49m\u001b[43mdf_\u001b[49m\u001b[43m,\u001b[49m\u001b[43m[\u001b[49m\u001b[38;5;124;43m'\u001b[39;49m\u001b[38;5;124;43mFemale_C1\u001b[39;49m\u001b[38;5;124;43m'\u001b[39;49m\u001b[43m,\u001b[49m\u001b[38;5;124;43m'\u001b[39;49m\u001b[38;5;124;43mMale_C3\u001b[39;49m\u001b[38;5;124;43m'\u001b[39;49m\u001b[43m]\u001b[49m\u001b[43m)\u001b[49m\n\u001b[0;32m      2\u001b[0m fairness_inter[\u001b[38;5;124m'\u001b[39m\u001b[38;5;124mGrupo\u001b[39m\u001b[38;5;124m'\u001b[39m] \u001b[38;5;241m=\u001b[39m [\u001b[38;5;124m'\u001b[39m\u001b[38;5;124mMujeres 1ra Clase\u001b[39m\u001b[38;5;124m'\u001b[39m,\u001b[38;5;124m'\u001b[39m\u001b[38;5;124mHombres 3ra Clase\u001b[39m\u001b[38;5;124m'\u001b[39m]\n\u001b[0;32m      3\u001b[0m fairness_inter\u001b[38;5;241m.\u001b[39mset_index(\u001b[38;5;124m'\u001b[39m\u001b[38;5;124mGrupo\u001b[39m\u001b[38;5;124m'\u001b[39m,drop\u001b[38;5;241m=\u001b[39m\u001b[38;5;28;01mTrue\u001b[39;00m, inplace\u001b[38;5;241m=\u001b[39m\u001b[38;5;28;01mTrue\u001b[39;00m)\n",
      "Cell \u001b[1;32mIn[166], line 8\u001b[0m, in \u001b[0;36mgroup_metrics\u001b[1;34m(df, group_labels)\u001b[0m\n\u001b[0;32m      6\u001b[0m cm \u001b[38;5;241m=\u001b[39m confusion_matrix(df_[\u001b[38;5;124m'\u001b[39m\u001b[38;5;124my_true\u001b[39m\u001b[38;5;124m'\u001b[39m]\u001b[38;5;241m.\u001b[39mvalues, df_[\u001b[38;5;124m'\u001b[39m\u001b[38;5;124my_pred\u001b[39m\u001b[38;5;124m'\u001b[39m]\u001b[38;5;241m.\u001b[39mvalues)\n\u001b[0;32m      7\u001b[0m \u001b[38;5;66;03m#print(cm)\u001b[39;00m\n\u001b[1;32m----> 8\u001b[0m tn, fp, fn, tp \u001b[38;5;241m=\u001b[39m cm\u001b[38;5;241m.\u001b[39mravel()\n\u001b[0;32m     10\u001b[0m TPR \u001b[38;5;241m=\u001b[39m tp \u001b[38;5;241m/\u001b[39m (tp \u001b[38;5;241m+\u001b[39m fn) \u001b[38;5;28;01mif\u001b[39;00m (tp\u001b[38;5;241m+\u001b[39mfn) \u001b[38;5;241m>\u001b[39m \u001b[38;5;241m0\u001b[39m \u001b[38;5;28;01melse\u001b[39;00m \u001b[38;5;241m0\u001b[39m\n\u001b[0;32m     11\u001b[0m FPR \u001b[38;5;241m=\u001b[39m fp \u001b[38;5;241m/\u001b[39m (fp \u001b[38;5;241m+\u001b[39m tn) \u001b[38;5;28;01mif\u001b[39;00m (fp\u001b[38;5;241m+\u001b[39mtn) \u001b[38;5;241m>\u001b[39m \u001b[38;5;241m0\u001b[39m \u001b[38;5;28;01melse\u001b[39;00m \u001b[38;5;241m0\u001b[39m\n",
      "\u001b[1;31mValueError\u001b[0m: not enough values to unpack (expected 4, got 1)"
     ]
    }
   ],
   "source": [
    "fairness_inter = group_metrics(df_,['Female_C1','Male_C3'])\n",
    "fairness_inter['Grupo'] = ['Mujeres 1ra Clase','Hombres 3ra Clase']\n",
    "fairness_inter.set_index('Grupo',drop=True, inplace=True)\n",
    "fairness_inter\n",
    "# No sé por qué da error"
   ]
  },
  {
   "cell_type": "code",
   "execution_count": 169,
   "id": "2762a45e",
   "metadata": {},
   "outputs": [],
   "source": [
    "df_x = df_[df_['Male_C3']==1]\n",
    "cm = confusion_matrix(df_x['y_true'].values, df_x['y_pred'].values)\n",
    "cm\n",
    "tn, fp, fn, tp = cm.ravel()\n",
    "# ???????"
   ]
  }
 ],
 "metadata": {
  "kernelspec": {
   "display_name": "Python 3",
   "language": "python",
   "name": "python3"
  },
  "language_info": {
   "codemirror_mode": {
    "name": "ipython",
    "version": 3
   },
   "file_extension": ".py",
   "mimetype": "text/x-python",
   "name": "python",
   "nbconvert_exporter": "python",
   "pygments_lexer": "ipython3",
   "version": "3.13.1"
  }
 },
 "nbformat": 4,
 "nbformat_minor": 5
}
