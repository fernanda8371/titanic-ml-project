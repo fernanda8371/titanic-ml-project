{
 "cells": [
  {
   "cell_type": "code",
   "execution_count": 37,
   "id": "8c21dd99",
   "metadata": {},
   "outputs": [],
   "source": [
    "import pandas as pd\n",
    "import numpy as np\n",
    "import re\n",
    "import seaborn as sns\n",
    "import phik\n",
    "import matplotlib.pyplot as plt\n",
    "titanic = pd.read_csv(r\"..\\data\\Titanic-Dataset.csv\")"
   ]
  },
  {
   "cell_type": "markdown",
   "id": "104451d4",
   "metadata": {},
   "source": [
    "# Ingenieria de Features\n",
    "\n",
    "Se plantean 10 nuevos feutures que permitiran cuntificar variables no numericas, las cuales permitiran y facilitaran analisis. Se platean la siguientes:\n",
    "\n",
    "**Title:** Es el titulo honorifico de cada pasajero.(str)\n",
    "\n",
    "**FamiliSize:** Tamaño de la familia. (int)\n",
    "\n",
    "**IsAlone:** 0 si viajaba solo, 1 si no.\n",
    "\n",
    "**AgeGroup:** Se categorizó segun la edad, \"Infant\"(0-12) años, \"Teenager\" (13-18) años, \"Adult\" (19-64)años y \"Third age\" (mayor de 65 años).\n",
    "\n",
    "**FarePerPerson:** Se encontro el costo del ticket individual.\n",
    "\n",
    "**IsMother:** 1 si es madre, 0 si no.\n",
    "\n",
    "**FareAboveMedian:** 1 si el precio del tiket esta por ensima de la media, 0 si no.\n",
    "\n",
    "**FamilySurvivalID:** Agrupa a los pasajeros que compartían el billete o apellido.\n",
    "\n",
    "**LastName:** El apellido del pasajero.\n",
    "\n",
    "**CabinKnown:** 1 si se conoce la cabina, 0 si no.\n"
   ]
  },
  {
   "cell_type": "code",
   "execution_count": 38,
   "id": "deb47776",
   "metadata": {},
   "outputs": [],
   "source": [
    "#Funciones auxiliares\n",
    "def get_age_group(age):\n",
    "    \"\"\"Asigna la edad a un grupo en epecifico\n",
    "\n",
    "    Args:\n",
    "        age (int): Edad\n",
    "\n",
    "    Returns:\n",
    "        categoria\n",
    "    \"\"\"\n",
    "    if pd.isnull(age):\n",
    "      return 'Unknown'\n",
    "    elif age <= 12:\n",
    "      return 'Infant'\n",
    "    elif age <= 18:\n",
    "      return 'Teenager'\n",
    "    elif age <= 64:\n",
    "      return 'Adult'\n",
    "    else:\n",
    "      return 'Third age'"
   ]
  },
  {
   "cell_type": "code",
   "execution_count": 39,
   "id": "bf5c412e",
   "metadata": {},
   "outputs": [],
   "source": [
    "titanic_procesado = titanic.copy()\n",
    "titanic_procesado['Title'] = titanic_procesado['Name'].apply(lambda x: re.search(r' ([A-Za-z]+)\\.', x).group(1))\n",
    "titanic_procesado['FamilySize'] = titanic_procesado['SibSp'] + titanic_procesado['Parch'] + 1\n",
    "titanic_procesado['IsAlone'] = (titanic_procesado['FamilySize'] == 1).astype(int)\n",
    "titanic_procesado['AgeGroup'] = titanic_procesado['Age'].apply(get_age_group)\n",
    "titanic_procesado['IsMother'] = ((titanic_procesado['Sex'] == 'female') &\n",
    "                      (titanic_procesado['Age'] >= 16) &  # Madres más jóvenes\n",
    "                      (titanic_procesado['Parch'] > 0) &\n",
    "                      ((titanic_procesado['SibSp'] > 0) | (titanic_procesado['Parch'] > 1)) &  # Más evidencia familiar\n",
    "                      (~titanic_procesado['Title'].isin(['Miss', 'Ms']))).astype(int)  # Excluir solteras\n",
    "titanic_procesado['FareAboveMedian'] = (titanic_procesado['Fare'] > titanic_procesado['Fare'].mean()).astype(int)\n",
    "titanic_procesado['FarePerPerson'] = titanic_procesado['Fare'] / (titanic_procesado.groupby('Ticket')['PassengerId'].transform('count'))\n",
    "titanic_procesado['FamilySurvivalID'] = titanic_procesado['Ticket'].astype(str) + '_' + titanic_procesado['Name'].str.split(',').str[0]\n",
    "titanic_procesado['LastName'] = titanic_procesado['Name'].str.split(',').str[0]\n",
    "titanic_procesado['CabinKnown'] = titanic_procesado['Cabin'].notna().astype(int)"
   ]
  },
  {
   "cell_type": "code",
   "execution_count": 41,
   "id": "e47ec69b",
   "metadata": {},
   "outputs": [
    {
     "name": "stdout",
     "output_type": "stream",
     "text": [
      "interval columns not set, guessing: ['PassengerId', 'Survived']\n",
      "interval columns not set, guessing: ['Pclass', 'Survived']\n",
      "interval columns not set, guessing: ['Survived']\n",
      "interval columns not set, guessing: ['Survived']\n",
      "interval columns not set, guessing: ['Age', 'Survived']\n",
      "interval columns not set, guessing: ['SibSp', 'Survived']\n",
      "interval columns not set, guessing: ['Parch', 'Survived']\n",
      "interval columns not set, guessing: ['Survived']\n",
      "interval columns not set, guessing: ['Fare', 'Survived']\n",
      "interval columns not set, guessing: ['Survived']\n",
      "interval columns not set, guessing: ['Survived']\n",
      "interval columns not set, guessing: ['Survived']\n",
      "interval columns not set, guessing: ['FamilySize', 'Survived']\n",
      "interval columns not set, guessing: ['IsAlone', 'Survived']\n",
      "interval columns not set, guessing: ['Survived']\n",
      "interval columns not set, guessing: ['IsMother', 'Survived']\n",
      "interval columns not set, guessing: ['FareAboveMedian', 'Survived']\n",
      "interval columns not set, guessing: ['FarePerPerson', 'Survived']\n",
      "interval columns not set, guessing: ['Survived']\n",
      "interval columns not set, guessing: ['Survived']\n",
      "interval columns not set, guessing: ['CabinKnown', 'Survived']\n",
      "Correlación de cada variable con Survived:\n",
      "                  Correlation_with_Survived\n",
      "Name                               1.000000\n",
      "Ticket                             0.773153\n",
      "Sex                                0.750321\n",
      "FamilySurvivalID                   0.748386\n",
      "LastName                           0.682088\n",
      "Title                              0.626918\n",
      "Cabin                              0.625486\n",
      "CabinKnown                         0.471483\n",
      "FareAboveMedian                    0.367302\n",
      "FarePerPerson                      0.310499\n",
      "IsAlone                            0.306505\n",
      "FamilySize                         0.287103\n",
      "Fare                               0.265387\n",
      "Pclass                             0.205454\n",
      "Age                                0.203348\n",
      "IsMother                           0.177761\n",
      "SibSp                              0.175651\n",
      "Parch                              0.147080\n",
      "PassengerId                        0.140981\n",
      "AgeGroup                           0.116102\n",
      "Embarked                           0.100354\n"
     ]
    }
   ],
   "source": [
    "import phik\n",
    "import pandas as pd\n",
    "\n",
    "# Calcular correlación de cada variable con Survived\n",
    "survived_corr = {}\n",
    "\n",
    "for column in titanic_procesado.columns:\n",
    "    if column != 'Survived':\n",
    "        corr_value = titanic_procesado[[column, 'Survived']].phik_matrix().iloc[0, 1]\n",
    "        survived_corr[column] = corr_value\n",
    "\n",
    "# Crear DataFrame ordenado\n",
    "correlation_df = pd.DataFrame.from_dict(survived_corr, orient='index', \n",
    "                                       columns=['Correlation_with_Survived'])\n",
    "correlation_df = correlation_df.sort_values('Correlation_with_Survived', \n",
    "                                           ascending=False)\n",
    "\n",
    "print(\"Correlación de cada variable con Survived:\")\n",
    "print(correlation_df)"
   ]
  },
  {
   "cell_type": "code",
   "execution_count": null,
   "id": "1257500f",
   "metadata": {},
   "outputs": [
    {
     "name": "stdout",
     "output_type": "stream",
     "text": [
      "🔍 Análisis de Data Leakage:\n",
      "==================================================\n",
      "interval columns not set, guessing: ['PassengerId', 'Survived']\n",
      "PassengerId: Corr=0.141, Unicidad=1.000 → OK\n",
      "interval columns not set, guessing: ['Pclass', 'Survived']\n",
      "Pclass: Corr=0.205, Unicidad=0.003 → OK\n",
      "interval columns not set, guessing: ['Survived']\n",
      "Name: Corr=1.000, Unicidad=1.000 → LEAKAGE\n",
      "interval columns not set, guessing: ['Survived']\n",
      "Sex: Corr=0.750, Unicidad=0.002 → OK\n",
      "interval columns not set, guessing: ['Age', 'Survived']\n",
      "Age: Corr=0.203, Unicidad=0.099 → OK\n",
      "interval columns not set, guessing: ['SibSp', 'Survived']\n",
      "SibSp: Corr=0.176, Unicidad=0.008 → OK\n",
      "interval columns not set, guessing: ['Parch', 'Survived']\n",
      "Parch: Corr=0.147, Unicidad=0.008 → OK\n",
      "interval columns not set, guessing: ['Survived']\n",
      "Ticket: Corr=0.773, Unicidad=0.764 → LEAKAGE\n",
      "interval columns not set, guessing: ['Fare', 'Survived']\n",
      "Fare: Corr=0.265, Unicidad=0.278 → OK\n",
      "interval columns not set, guessing: ['Survived']\n",
      "Cabin: Corr=0.625, Unicidad=0.165 → OK\n",
      "interval columns not set, guessing: ['Survived']\n",
      "Embarked: Corr=0.100, Unicidad=0.003 → OK\n",
      "interval columns not set, guessing: ['Survived']\n",
      "Title: Corr=0.627, Unicidad=0.019 → OK\n",
      "interval columns not set, guessing: ['FamilySize', 'Survived']\n",
      "FamilySize: Corr=0.287, Unicidad=0.010 → OK\n",
      "interval columns not set, guessing: ['IsAlone', 'Survived']\n",
      "IsAlone: Corr=0.307, Unicidad=0.002 → OK\n",
      "interval columns not set, guessing: ['Survived']\n",
      "AgeGroup: Corr=0.116, Unicidad=0.006 → OK\n",
      "interval columns not set, guessing: ['IsMother', 'Survived']\n",
      "IsMother: Corr=0.178, Unicidad=0.002 → OK\n",
      "interval columns not set, guessing: ['FareAboveMedian', 'Survived']\n",
      "FareAboveMedian: Corr=0.367, Unicidad=0.002 → OK\n",
      "interval columns not set, guessing: ['FarePerPerson', 'Survived']\n",
      "FarePerPerson: Corr=0.311, Unicidad=0.278 → OK\n",
      "interval columns not set, guessing: ['Survived']\n",
      "FamilySurvivalID: Corr=0.748, Unicidad=0.829 → LEAKAGE\n",
      "interval columns not set, guessing: ['Survived']\n",
      "LastName: Corr=0.682, Unicidad=0.749 → OK\n",
      "interval columns not set, guessing: ['CabinKnown', 'Survived']\n",
      "CabinKnown: Corr=0.471, Unicidad=0.002 → OK\n"
     ]
    }
   ],
   "source": [
    "def check_leakage(variable, target='Survived', threshold=0.7):\n",
    "    \"\"\"\n",
    "    Detecta posible leakage si la variable tiene correlación muy alta\n",
    "    y muchos valores únicos\n",
    "    \"\"\"\n",
    "    if variable not in titanic_procesado.columns or variable == target:\n",
    "        return False\n",
    "        \n",
    "    # Verificar que la variable tenga al menos 2 valores únicos\n",
    "    if titanic_procesado[variable].nunique() < 2:\n",
    "        print(f\"{variable}: Solo 1 valor único → Saltar\")\n",
    "        return False\n",
    "        \n",
    "    try:\n",
    "        # Calcular correlación con manejo de errores\n",
    "        corr = titanic_procesado[[variable, target]].phik_matrix().iloc[0, 1]\n",
    "        \n",
    "        # Verificar unicidad\n",
    "        uniqueness = titanic_procesado[variable].nunique() / len(titanic_procesado)\n",
    "        \n",
    "        # Criterio de leakage\n",
    "        is_leakage = (corr > threshold) and (uniqueness > 0.5)\n",
    "        \n",
    "        print(f\"{variable}: Corr={corr:.3f}, Unicidad={uniqueness:.3f} → {'LEAKAGE' if is_leakage else 'OK'}\")\n",
    "        \n",
    "        return is_leakage\n",
    "        \n",
    "    except Exception as e:\n",
    "        print(f\"{variable}: Error en cálculo → {str(e)[:50]}...\")\n",
    "        return False\n",
    "\n",
    "suspicious_vars = [col for col in titanic_procesado.columns if col != 'Survived']\n",
    "\n",
    "print(\"Análisis de Data Leakage:\")\n",
    "print(\"=\" * 50)\n",
    "\n",
    "for var in suspicious_vars:\n",
    "    check_leakage(var)"
   ]
  },
  {
   "cell_type": "markdown",
   "id": "4f9c6111",
   "metadata": {},
   "source": [
    "Con este analisis evidensiamos datos que son unicos como lo son el nombre, el ticket y el FamilySurvivalID que envista que son unicos al momento de implementar un modelo de maching learning puede perjudicar la capacidad de predicción ya que memozaria patrones muy fuertes que sesgaria su elección."
   ]
  },
  {
   "cell_type": "code",
   "execution_count": null,
   "id": "089ad2c5",
   "metadata": {},
   "outputs": [],
   "source": [
    "variables_leakage = ['Name', 'Ticket', 'FamilySurvivalID']\n",
    "correlation_df = correlation_df[~correlation_df.index.isin(variables_leakage)]"
   ]
  },
  {
   "cell_type": "code",
   "execution_count": 49,
   "id": "93331ef1",
   "metadata": {},
   "outputs": [
    {
     "data": {
      "image/png": "[encoded data removed]",
      "text/plain": [
       "<Figure size 1000x600 with 1 Axes>"
      ]
     },
     "metadata": {},
     "output_type": "display_data"
    }
   ],
   "source": [
    "plt.figure(figsize=(10, 6))\n",
    "correlation_df['Correlation_with_Survived'].plot(kind='barh', color='steelblue')\n",
    "plt.xlabel('Correlación Phi-K con Survived')\n",
    "plt.title('Correlación de Variables con la Supervivencia')\n",
    "plt.axvline(x=0, color='red', linestyle='--', alpha=0.7)\n",
    "plt.grid(axis='x', alpha=0.3)\n",
    "plt.tight_layout()\n",
    "plt.show()"
   ]
  }
 ],
 "metadata": {
  "kernelspec": {
   "display_name": "Python 3",
   "language": "python",
   "name": "python3"
  },
  "language_info": {
   "codemirror_mode": {
    "name": "ipython",
    "version": 3
   },
   "file_extension": ".py",
   "mimetype": "text/x-python",
   "name": "python",
   "nbconvert_exporter": "python",
   "pygments_lexer": "ipython3",
   "version": "3.13.5"
  }
 },
 "nbformat": 4,
 "nbformat_minor": 5
}
