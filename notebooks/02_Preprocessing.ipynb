{
 "cells": [
  {
   "cell_type": "code",
   "execution_count": 129,
   "id": "8c21dd99",
   "metadata": {},
   "outputs": [],
   "source": [
    "import pandas as pd\n",
    "import numpy as np\n",
    "import re\n",
    "import seaborn as sns\n",
    "import phik\n",
    "import matplotlib.pyplot as plt\n",
    "import matplotlib.cm as cm\n",
    "import os\n",
    "import sys\n",
    "import contextlib\n",
    "from scipy.stats import chi2_contingency\n",
    "\n",
    "from sklearn.model_selection import train_test_split\n",
    "from sklearn.compose import ColumnTransformer\n",
    "from sklearn.preprocessing import OneHotEncoder\n",
    "from sklearn.pipeline import Pipeline\n",
    "from sklearn.impute import SimpleImputer, KNNImputer\n",
    "from sklearn.linear_model import LogisticRegression\n",
    "from sklearn.metrics import accuracy_score, roc_auc_score\n",
    "\n",
    "import warnings\n",
    "warnings.filterwarnings(\"ignore\")\n",
    "import logging\n",
    "logging.getLogger(\"phik\").setLevel(logging.ERROR)\n",
    "\n",
    "\n",
    "df = pd.read_csv(r\"..\\data\\Titanic-Dataset.csv\")"
   ]
  },
  {
   "cell_type": "markdown",
   "id": "fe862800",
   "metadata": {},
   "source": [
    "# Tratamiento de valores faltantes"
   ]
  },
  {
   "cell_type": "code",
   "execution_count": 130,
   "id": "157ba591",
   "metadata": {},
   "outputs": [
    {
     "data": {
      "application/vnd.microsoft.datawrangler.viewer.v0+json": {
       "columns": [
        {
         "name": "index",
         "rawType": "object",
         "type": "string"
        },
        {
         "name": "missing_count",
         "rawType": "int64",
         "type": "integer"
        },
        {
         "name": "missing_%",
         "rawType": "float64",
         "type": "float"
        }
       ],
       "ref": "b206e4b4-c519-4061-a415-1b3a4750ef0e",
       "rows": [
        [
         "Cabin",
         "687",
         "77.1"
        ],
        [
         "Age",
         "177",
         "19.87"
        ],
        [
         "Embarked",
         "2",
         "0.22"
        ],
        [
         "PassengerId",
         "0",
         "0.0"
        ],
        [
         "Name",
         "0",
         "0.0"
        ],
        [
         "Pclass",
         "0",
         "0.0"
        ],
        [
         "Survived",
         "0",
         "0.0"
        ],
        [
         "Sex",
         "0",
         "0.0"
        ],
        [
         "Parch",
         "0",
         "0.0"
        ],
        [
         "SibSp",
         "0",
         "0.0"
        ],
        [
         "Fare",
         "0",
         "0.0"
        ],
        [
         "Ticket",
         "0",
         "0.0"
        ]
       ],
       "shape": {
        "columns": 2,
        "rows": 12
       }
      },
      "text/html": [
       "<div>\n",
       "<style scoped>\n",
       "    .dataframe tbody tr th:only-of-type {\n",
       "        vertical-align: middle;\n",
       "    }\n",
       "\n",
       "    .dataframe tbody tr th {\n",
       "        vertical-align: top;\n",
       "    }\n",
       "\n",
       "    .dataframe thead th {\n",
       "        text-align: right;\n",
       "    }\n",
       "</style>\n",
       "<table border=\"1\" class=\"dataframe\">\n",
       "  <thead>\n",
       "    <tr style=\"text-align: right;\">\n",
       "      <th></th>\n",
       "      <th>missing_count</th>\n",
       "      <th>missing_%</th>\n",
       "    </tr>\n",
       "  </thead>\n",
       "  <tbody>\n",
       "    <tr>\n",
       "      <th>Cabin</th>\n",
       "      <td>687</td>\n",
       "      <td>77.10</td>\n",
       "    </tr>\n",
       "    <tr>\n",
       "      <th>Age</th>\n",
       "      <td>177</td>\n",
       "      <td>19.87</td>\n",
       "    </tr>\n",
       "    <tr>\n",
       "      <th>Embarked</th>\n",
       "      <td>2</td>\n",
       "      <td>0.22</td>\n",
       "    </tr>\n",
       "    <tr>\n",
       "      <th>PassengerId</th>\n",
       "      <td>0</td>\n",
       "      <td>0.00</td>\n",
       "    </tr>\n",
       "    <tr>\n",
       "      <th>Name</th>\n",
       "      <td>0</td>\n",
       "      <td>0.00</td>\n",
       "    </tr>\n",
       "    <tr>\n",
       "      <th>Pclass</th>\n",
       "      <td>0</td>\n",
       "      <td>0.00</td>\n",
       "    </tr>\n",
       "    <tr>\n",
       "      <th>Survived</th>\n",
       "      <td>0</td>\n",
       "      <td>0.00</td>\n",
       "    </tr>\n",
       "    <tr>\n",
       "      <th>Sex</th>\n",
       "      <td>0</td>\n",
       "      <td>0.00</td>\n",
       "    </tr>\n",
       "    <tr>\n",
       "      <th>Parch</th>\n",
       "      <td>0</td>\n",
       "      <td>0.00</td>\n",
       "    </tr>\n",
       "    <tr>\n",
       "      <th>SibSp</th>\n",
       "      <td>0</td>\n",
       "      <td>0.00</td>\n",
       "    </tr>\n",
       "    <tr>\n",
       "      <th>Fare</th>\n",
       "      <td>0</td>\n",
       "      <td>0.00</td>\n",
       "    </tr>\n",
       "    <tr>\n",
       "      <th>Ticket</th>\n",
       "      <td>0</td>\n",
       "      <td>0.00</td>\n",
       "    </tr>\n",
       "  </tbody>\n",
       "</table>\n",
       "</div>"
      ],
      "text/plain": [
       "             missing_count  missing_%\n",
       "Cabin                  687      77.10\n",
       "Age                    177      19.87\n",
       "Embarked                 2       0.22\n",
       "PassengerId              0       0.00\n",
       "Name                     0       0.00\n",
       "Pclass                   0       0.00\n",
       "Survived                 0       0.00\n",
       "Sex                      0       0.00\n",
       "Parch                    0       0.00\n",
       "SibSp                    0       0.00\n",
       "Fare                     0       0.00\n",
       "Ticket                   0       0.00"
      ]
     },
     "execution_count": 130,
     "metadata": {},
     "output_type": "execute_result"
    }
   ],
   "source": [
    "miss_overall = df.isna().sum().to_frame(\"missing_count\")\n",
    "miss_overall[\"missing_%\"] = (df.isna().mean()*100).round(2)\n",
    "miss_overall.sort_values(\"missing_%\", ascending=False)"
   ]
  },
  {
   "cell_type": "code",
   "execution_count": 131,
   "id": "f1e21254",
   "metadata": {},
   "outputs": [
    {
     "data": {
      "text/plain": [
       "<Figure size 1000x600 with 0 Axes>"
      ]
     },
     "metadata": {},
     "output_type": "display_data"
    },
    {
     "data": {
      "image/png": "[encoded data removed]",
      "text/plain": [
       "<Figure size 640x480 with 1 Axes>"
      ]
     },
     "metadata": {},
     "output_type": "display_data"
    }
   ],
   "source": [
    "# Totales\n",
    "totales_prim = df[df['Pclass'] == 1].shape[0]\n",
    "totales_seg = df[df['Pclass'] == 2].shape[0]\n",
    "totales_ter = df[df['Pclass'] == 3].shape[0]\n",
    "totales_C = df[df['Embarked'] == 'C'].shape[0]\n",
    "totales_Q = df[df['Embarked'] == 'Q'].shape[0]\n",
    "totales_S = df[df['Embarked'] == 'S'].shape[0]\n",
    "totales_male = df[df['Sex'] == 'male'].shape[0]\n",
    "totales_female = df[df['Sex'] == 'female'].shape[0]\n",
    "\n",
    "# Porcentaje de Edades faltantes\n",
    "e_f_prim = df[(df['Pclass'] == 1) & (df['Age'].isna())].shape[0] / totales_prim\n",
    "e_f_seg = df[(df['Pclass'] == 2) & (df['Age'].isna())].shape[0] / totales_seg\n",
    "e_f_ter = df[(df['Pclass'] == 3)  & df['Age'].isna()].shape[0] / totales_ter\n",
    "e_f_C = df[(df['Embarked'] == 'C') & df['Age'].isna()].shape[0] / totales_C\n",
    "e_f_Q = df[(df['Embarked'] == 'Q') & df['Age'].isna()].shape[0] / totales_Q\n",
    "e_f_S = df[(df['Embarked'] == 'S') & df['Age'].isna()].shape[0] / totales_S\n",
    "e_f_male = df[(df['Sex'] == 'male') & df['Age'].isna()].shape[0] / totales_male\n",
    "e_f_female = df[(df['Sex'] == 'female') & df['Age'].isna()].shape[0] / totales_female\n",
    "\n",
    "# Porcentaje de Cabinas faltantes\n",
    "c_f_prim = df[(df['Pclass'] == 1) & df['Cabin'].isna()].shape[0] / totales_prim\n",
    "c_f_seg = df[(df['Pclass'] == 2) & df['Cabin'].isna()].shape[0] / totales_seg\n",
    "c_f_ter = df[(df['Pclass'] == 3)  & df['Cabin'].isna()].shape[0] / totales_ter\n",
    "c_f_C = df[(df['Embarked'] == 'C') & df['Cabin'].isna()].shape[0] / totales_C\n",
    "c_f_Q = df[(df['Embarked'] == 'Q') & df['Cabin'].isna()].shape[0] / totales_Q\n",
    "c_f_S = df[(df['Embarked'] == 'S') & df['Cabin'].isna()].shape[0] / totales_S\n",
    "c_f_male = df[(df['Sex'] == 'male') & df['Cabin'].isna()].shape[0] / totales_male\n",
    "c_f_female = df[(df['Sex'] == 'female') & df['Cabin'].isna()].shape[0] / totales_female\n",
    "\n",
    "# Porcentaje de Embarque faltante\n",
    "emb_f_prim = df[(df['Pclass'] == 1) & df['Embarked'].isna()].shape[0] / totales_prim\n",
    "emb_f_seg = df[(df['Pclass'] == 2) & df['Embarked'].isna()].shape[0] / totales_seg\n",
    "emb_f_ter = df[(df['Pclass'] == 3)  & df['Embarked'].isna()].shape[0] / totales_ter\n",
    "emb_f_C = df[(df['Embarked'] == 'C') & df['Embarked'].isna()].shape[0] / totales_C\n",
    "emb_f_Q = df[(df['Embarked'] == 'Q') & df['Embarked'].isna()].shape[0] / totales_Q\n",
    "emb_f_S = df[(df['Embarked'] == 'S') & df['Embarked'].isna()].shape[0] / totales_S\n",
    "emb_f_male = df[(df['Sex'] == 'male') & df['Embarked'].isna()].shape[0] / totales_male\n",
    "emb_f_female = df[(df['Sex'] == 'female') & df['Embarked'].isna()].shape[0] / totales_female\n",
    "\n",
    "missing = pd.DataFrame({\n",
    "    '1': [e_f_prim, c_f_prim, emb_f_prim],\n",
    "    '2': [e_f_seg, c_f_seg, emb_f_seg],\n",
    "    '3': [e_f_ter, c_f_ter, emb_f_ter],\n",
    "    'C': [e_f_C, c_f_C, emb_f_C],\n",
    "    'Q': [e_f_Q, c_f_Q, emb_f_Q],\n",
    "    'S': [e_f_S, c_f_S, emb_f_S],\n",
    "    'male': [e_f_male, c_f_male, emb_f_male],\n",
    "    'female': [e_f_female, c_f_female, emb_f_female]})\n",
    "missing.index = ['Edad', 'Cabina', 'Embarque']\n",
    "\n",
    "plt.figure(figsize=(10, 6))\n",
    "missing.T.plot(kind='bar')\n",
    "plt.title('Porcentaje de Valores Faltantes por Variable')\n",
    "plt.ylabel('Porcentaje de Valores Faltantes')\n",
    "plt.xticks(ha='right')\n",
    "plt.tight_layout()\n",
    "figure_m = plt.gcf()\n",
    "plt.show()"
   ]
  },
  {
   "cell_type": "markdown",
   "id": "ca3e65bb",
   "metadata": {},
   "source": [
    "Variable 'Embarked': \\\n",
    "Dado que para la variable embarque sólo faltan 2 valores, los asociaremos a un error aleatorio (MCAR). De 'Encyclopedia Titanica' obtenemos que los valores faltantes corresponden al puerto de Southampton."
   ]
  },
  {
   "cell_type": "code",
   "execution_count": 132,
   "id": "92daa4a5",
   "metadata": {},
   "outputs": [],
   "source": [
    "df['Embarked'] = df['Embarked'].fillna(value='S')"
   ]
  },
  {
   "cell_type": "markdown",
   "id": "17816911",
   "metadata": {},
   "source": [
    "Por otro lado, se puede evidenciar en cuanto a clase de tiquete que hay más valores faltantes en tercera clase que en las demás. Además, la segunda y tercera clase casi no tienen registrada la cabina.   \n",
    "En cuanto a puerto de embarque, se muestra que el puerto que tiene más valores faltantes a comparación con los otros dos es el puerto de Queenstown (Q), pudo suceder que dicho puerto no fue tan riguroso en el registro que los otros dos.\n",
    "Por tanto, consideramos a la mayoría de los valores faltantes de edad y cabina como productos de errores sistemáticos (MAR)."
   ]
  },
  {
   "cell_type": "markdown",
   "id": "0b1ab45c",
   "metadata": {},
   "source": [
    "**Análisis de casos completos vs. incompletos:**"
   ]
  },
  {
   "cell_type": "code",
   "execution_count": 133,
   "id": "8c6ee854",
   "metadata": {},
   "outputs": [],
   "source": [
    "df_c_cabin = df[(df['Cabin'].notna())] # Datos con cabina\n",
    "total_c_cabin = df_c_cabin.shape[0]\n",
    "df_s_cabin = df[(df['Cabin'].isna())] # Datos sin cabina\n",
    "total_s_cabin = df_s_cabin.shape[0]\n",
    "df_c_age = df[(df['Age'].notna())] # Datos con edad\n",
    "total_c_age = df_c_age.shape[0]\n",
    "df_s_age = df[(df['Age'].isna())] # Datos sin edad\n",
    "total_s_age = df_s_age.shape[0]"
   ]
  },
  {
   "cell_type": "markdown",
   "id": "fb06f8af",
   "metadata": {},
   "source": [
    "Cabina:"
   ]
  },
  {
   "cell_type": "code",
   "execution_count": 134,
   "id": "c3c818d9",
   "metadata": {},
   "outputs": [
    {
     "data": {
      "text/plain": [
       "<Figure size 1000x600 with 0 Axes>"
      ]
     },
     "metadata": {},
     "output_type": "display_data"
    },
    {
     "data": {
      "image/png": "[encoded data removed]",
      "text/plain": [
       "<Figure size 640x480 with 1 Axes>"
      ]
     },
     "metadata": {},
     "output_type": "display_data"
    }
   ],
   "source": [
    "# con Cabina\n",
    "c_prim = df_c_cabin[df_c_cabin['Pclass'] == 1].shape[0] / total_c_cabin\n",
    "c_seg = df_c_cabin[df_c_cabin['Pclass'] == 2].shape[0] / total_c_cabin\n",
    "c_ter = df_c_cabin[df_c_cabin['Pclass'] == 3].shape[0] / total_c_cabin\n",
    "c_C = df_c_cabin[df_c_cabin['Embarked'] == 'C'].shape[0] / total_c_cabin\n",
    "c_Q = df_c_cabin[df_c_cabin['Embarked'] == 'Q'].shape[0]  / total_c_cabin\n",
    "c_S = df_c_cabin[df_c_cabin['Embarked'] == 'S'].shape[0] / total_c_cabin\n",
    "c_male = df_c_cabin[df_c_cabin['Sex'] == 'male'].shape[0] / total_c_cabin\n",
    "c_female = df_c_cabin[df_c_cabin['Sex'] == 'female'].shape[0] / total_c_cabin\n",
    "\n",
    "# sin Cabina\n",
    "s_prim = df_s_cabin[df_s_cabin['Pclass'] == 1].shape[0] / total_s_cabin\n",
    "s_seg = df_s_cabin[df_s_cabin['Pclass'] == 2].shape[0] / total_s_cabin\n",
    "s_ter = df_s_cabin[df_s_cabin['Pclass'] == 3].shape[0] / total_s_cabin\n",
    "s_C = df_s_cabin[df_s_cabin['Embarked'] == 'C'].shape[0] / total_s_cabin\n",
    "s_Q = df_s_cabin[df_s_cabin['Embarked'] == 'Q'].shape[0]  / total_s_cabin\n",
    "s_S = df_s_cabin[df_s_cabin['Embarked'] == 'S'].shape[0] / total_s_cabin\n",
    "s_male = df_s_cabin[df_s_cabin['Sex'] == 'male'].shape[0] / total_s_cabin\n",
    "s_female = df_s_cabin[df_s_cabin['Sex'] == 'female'].shape[0] / total_s_cabin\n",
    "\n",
    "cabin = pd.DataFrame({\n",
    "    '1': [c_prim, s_prim],\n",
    "    '2': [c_seg, s_seg],\n",
    "    '3': [c_ter, s_ter],\n",
    "    'C': [c_C, s_C],\n",
    "    'Q': [c_Q, s_Q],\n",
    "    'S': [c_S, s_S],\n",
    "    'male': [c_male, s_male],\n",
    "    'female': [c_female, s_female]})\n",
    "cabin.index = ['Con cabina', 'Sin cabina']\n",
    "\n",
    "plt.figure(figsize=(10, 6))\n",
    "cabin.T.plot(kind='bar')\n",
    "plt.title('Porcentaje de Valores por Variable')\n",
    "plt.ylabel('Porcentaje de Valores')\n",
    "plt.xticks(ha='right')\n",
    "plt.tight_layout()\n",
    "figure_cabin = plt.gcf()"
   ]
  },
  {
   "cell_type": "markdown",
   "id": "c3d00cbe",
   "metadata": {},
   "source": [
    "Es evidente que la distribución de los datos con cabina y de los datos sin cabina difieren fuertemente en cuanto a la variable clase. \\\n",
    "Como test se compara el valor esperado de la clase:"
   ]
  },
  {
   "cell_type": "code",
   "execution_count": 135,
   "id": "a0d0a9bf",
   "metadata": {},
   "outputs": [
    {
     "name": "stdout",
     "output_type": "stream",
     "text": [
      "Con cabina:  1.196078431372549\n",
      "Sin cabina:  2.63901018922853\n"
     ]
    }
   ],
   "source": [
    "c_mean = df_c_cabin['Pclass'].mean()\n",
    "s_mean = df_s_cabin['Pclass'].mean()\n",
    "print('Con cabina: ', c_mean)\n",
    "print('Sin cabina: ', s_mean)"
   ]
  },
  {
   "cell_type": "markdown",
   "id": "7305e8ee",
   "metadata": {},
   "source": [
    "Difieren significativamente para estar acotada por un rango de 1 a 3 \\\\\n",
    "Esto implicaría que si a un nuevo dato de clase 1 no posee cabina el modelo lo considere como de clase 3."
   ]
  },
  {
   "cell_type": "markdown",
   "id": "21f01f01",
   "metadata": {},
   "source": [
    "Edad:"
   ]
  },
  {
   "cell_type": "code",
   "execution_count": 136,
   "id": "3e6bdb89",
   "metadata": {},
   "outputs": [
    {
     "data": {
      "text/plain": [
       "<Figure size 1000x600 with 0 Axes>"
      ]
     },
     "metadata": {},
     "output_type": "display_data"
    },
    {
     "data": {
      "image/png": "[encoded data removed]",
      "text/plain": [
       "<Figure size 640x480 with 1 Axes>"
      ]
     },
     "metadata": {},
     "output_type": "display_data"
    }
   ],
   "source": [
    "# con edad\n",
    "c_prim = df_c_age[df_c_age['Pclass'] == 1].shape[0] / total_c_age\n",
    "c_seg = df_c_age[df_c_age['Pclass'] == 2].shape[0] / total_c_age\n",
    "c_ter = df_c_age[df_c_age['Pclass'] == 3].shape[0] / total_c_age\n",
    "c_C = df_c_age[df_c_age['Embarked'] == 'C'].shape[0] / total_c_age\n",
    "c_Q = df_c_age[df_c_age['Embarked'] == 'Q'].shape[0]  / total_c_age\n",
    "c_S = df_c_age[df_c_age['Embarked'] == 'S'].shape[0] / total_c_age\n",
    "c_male = df_c_age[df_c_age['Sex'] == 'male'].shape[0] / total_c_age\n",
    "c_female = df_c_age[df_c_age['Sex'] == 'female'].shape[0] / total_c_age\n",
    "\n",
    "# sin edad\n",
    "s_prim = df_s_age[df_s_age['Pclass'] == 1].shape[0] / total_s_age\n",
    "s_seg = df_s_age[df_s_age['Pclass'] == 2].shape[0] / total_s_age\n",
    "s_ter = df_s_age[df_s_age['Pclass'] == 3].shape[0] / total_s_age\n",
    "s_C = df_s_age[df_s_age['Embarked'] == 'C'].shape[0] / total_s_age\n",
    "s_Q = df_s_age[df_s_age['Embarked'] == 'Q'].shape[0]  / total_s_age\n",
    "s_S = df_s_age[df_s_age['Embarked'] == 'S'].shape[0] / total_s_age\n",
    "s_male = df_s_age[df_s_age['Sex'] == 'male'].shape[0] / total_s_age\n",
    "s_female = df_s_age[df_s_age['Sex'] == 'female'].shape[0] / total_s_age\n",
    "\n",
    "age = pd.DataFrame({\n",
    "    '1': [c_prim, s_prim],\n",
    "    '2': [c_seg, s_seg],\n",
    "    '3': [c_ter, s_ter],\n",
    "    'C': [c_C, s_C],\n",
    "    'Q': [c_Q, s_Q],\n",
    "    'S': [c_S, s_S],\n",
    "    'male': [c_male, s_male],\n",
    "    'female': [c_female, s_female]})\n",
    "age.index = ['Con edad', 'Sin edad']\n",
    "\n",
    "plt.figure(figsize=(10, 6))\n",
    "age.T.plot(kind='bar')\n",
    "plt.title('Porcentaje de Valores por Variable')\n",
    "plt.ylabel('Porcentaje de Valores')\n",
    "plt.xticks(ha='right')\n",
    "plt.tight_layout()\n",
    "figure_age = plt.gcf()"
   ]
  },
  {
   "cell_type": "markdown",
   "id": "b6a3f3a6",
   "metadata": {},
   "source": [
    "Se puede evidenciar que la distribución de los datos con edad y de los datos sin edad difieren en cuanto a las variables clase y puerto de embarque."
   ]
  },
  {
   "cell_type": "markdown",
   "id": "d7753129",
   "metadata": {},
   "source": [
    "**Correlación con otras variables:**"
   ]
  },
  {
   "cell_type": "markdown",
   "id": "9c8a47b8",
   "metadata": {},
   "source": [
    "La ausencia de datos se relaciona con la variable clase y, en menor medida, con la variable puerto de embarque"
   ]
  },
  {
   "cell_type": "code",
   "execution_count": 137,
   "id": "3af9e8cc",
   "metadata": {},
   "outputs": [
    {
     "data": {
      "image/png": "[encoded data removed]",
      "text/plain": [
       "<Figure size 600x400 with 2 Axes>"
      ]
     },
     "metadata": {},
     "output_type": "display_data"
    }
   ],
   "source": [
    "df_ = df[['Age','Cabin']]\n",
    "\n",
    "missingness = df_.isnull().astype(int)\n",
    "\n",
    "corr_matrix = missingness.corr()\n",
    "\n",
    "plt.figure(figsize=(6,4))\n",
    "sns.heatmap(corr_matrix, annot=True, cmap=\"coolwarm\", center=0, vmin=0, vmax=1)\n",
    "plt.title(\"Correlación entre indicadores de missingness\")\n",
    "plt.show()"
   ]
  },
  {
   "cell_type": "markdown",
   "id": "55e1c211",
   "metadata": {},
   "source": [
    "**Estrategias de Imputación**"
   ]
  },
  {
   "cell_type": "markdown",
   "id": "5121db09",
   "metadata": {},
   "source": [
    "Cabina: Dado que a la variable Cabina le hacen falta el 77% de los datos, no se considerará la columna completa. Se eliminará más adelante."
   ]
  },
  {
   "cell_type": "markdown",
   "id": "3178fc28",
   "metadata": {},
   "source": [
    "Edad: Se analizan 2 métodos de imputación:\n",
    "- Método Basado en Grupos: edad promedio por Título\n",
    "- Método KNN imputer"
   ]
  },
  {
   "cell_type": "code",
   "execution_count": 138,
   "id": "b1e3764b",
   "metadata": {},
   "outputs": [],
   "source": [
    "df_clean = df.copy()\n",
    "df_clean = df_clean.drop('Cabin', axis=1)\n",
    "\n",
    "df_grupos = df.copy()\n",
    "\n",
    "# Basado en grupos\n",
    "df_grupos['Title'] = df_grupos['Name'].apply(lambda x: re.search(' ([A-Za-z]+)\\.', x).group(1))\n",
    "means = df_grupos.groupby('Title')['Age'].mean()\n",
    "df_grupos['Age'] = df_grupos.apply(lambda x: np.round(means[x['Title']],0) if np.isnan(x['Age']) else x['Age'], axis=1)\n",
    "df_grupos = df_grupos.drop('Title', axis=1)\n",
    "\n",
    "# KNN Imputer\n",
    "features = [\"Age\", \"Pclass\", \"SibSp\", \"Parch\", \"Fare\"]\n",
    "df_subset = df[features]\n",
    "imputer = KNNImputer(n_neighbors=5, weights=\"uniform\")\n",
    "df_imputed = imputer.fit_transform(df_subset)\n",
    "df_imputed = pd.DataFrame(df_imputed, columns=features)\n",
    "df_imputed['Age'] = df_imputed['Age'].round()"
   ]
  },
  {
   "cell_type": "code",
   "execution_count": 139,
   "id": "b50eb156",
   "metadata": {},
   "outputs": [
    {
     "data": {
      "image/png": "[encoded data removed]",
      "text/plain": [
       "<Figure size 600x400 with 1 Axes>"
      ]
     },
     "metadata": {},
     "output_type": "display_data"
    }
   ],
   "source": [
    "colors = cm.Set2.colors  \n",
    "\n",
    "fig, ax = plt.subplots(figsize=(6, 4))  \n",
    "\n",
    "df_imputed['Age'].hist(ax=ax, alpha=0.6, bins=15, label='KNN Imputer', color=colors[2])\n",
    "df_grupos['Age'].hist(ax=ax, alpha=0.6, bins=15, label='Grupos', color=colors[1])\n",
    "df_clean['Age'].hist(ax=ax, alpha=0.6, bins=15, label='Original', color=colors[0])\n",
    "\n",
    "ax.set_title(\"Comparación de Métodos de Imputación para 'Age'\", fontsize=12)\n",
    "ax.set_xlabel(\"Edad\")\n",
    "ax.set_ylabel(\"Frecuencia\")\n",
    "ax.legend()\n",
    "ax.grid(alpha=0.3)\n",
    "\n",
    "plt.show()"
   ]
  },
  {
   "cell_type": "markdown",
   "id": "7f63e468",
   "metadata": {},
   "source": [
    "KNN imputer es un poquito más próximo a la distribución original."
   ]
  },
  {
   "cell_type": "code",
   "execution_count": 140,
   "id": "725412c1",
   "metadata": {},
   "outputs": [
    {
     "data": {
      "text/plain": [
       "np.int64(0)"
      ]
     },
     "execution_count": 140,
     "metadata": {},
     "output_type": "execute_result"
    }
   ],
   "source": [
    "df[\"Age\"] = df_imputed[\"Age\"]\n",
    "df[\"Age\"].isna().sum()"
   ]
  },
  {
   "cell_type": "markdown",
   "id": "7d938fa0",
   "metadata": {},
   "source": [
    "# Ingenieria de Features"
   ]
  },
  {
   "cell_type": "markdown",
   "id": "104451d4",
   "metadata": {},
   "source": [
    "Se plantean 10 nuevos feutures que permitiran cuntificar variables no numericas, las cuales permitiran y facilitaran analisis. Se platean la siguientes:\n",
    "\n",
    "**Title:** Es el titulo honorifico de cada pasajero.(str)\n",
    "\n",
    "**FamiliSize:** Tamaño de la familia. (int)\n",
    "\n",
    "**IsAlone:** 0 si viajaba solo, 1 si no.\n",
    "\n",
    "**AgeGroup:** Se categorizó segun la edad, \"Infant\"(0-12) años, \"Teenager\" (13-18) años, \"Adult\" (19-64)años y \"Third age\" (mayor de 65 años).\n",
    "\n",
    "**FarePerPerson:** Se encontro el costo del ticket individual.\n",
    "\n",
    "**IsMother:** 1 si es madre, 0 si no.\n",
    "\n",
    "**FareAboveMedian:** 1 si el precio del tiket esta por ensima de la media, 0 si no.\n",
    "\n",
    "**FamilySurvivalID:** Agrupa a los pasajeros que compartían el billete o apellido.\n",
    "\n",
    "**LastName:** El apellido del pasajero.\n",
    "\n",
    "**CabinKnown:** 1 si se conoce la cabina, 0 si no.\n"
   ]
  },
  {
   "cell_type": "code",
   "execution_count": 141,
   "id": "deb47776",
   "metadata": {},
   "outputs": [],
   "source": [
    "#Funciones auxiliares\n",
    "def get_age_group(age):\n",
    "    \"\"\"Asigna la edad a un grupo en epecifico\n",
    "\n",
    "    Args:\n",
    "        age (int): Edad\n",
    "\n",
    "    Returns:\n",
    "        categoria\n",
    "    \"\"\"\n",
    "    if pd.isnull(age):\n",
    "      return 'Unknown'\n",
    "    elif age <= 12:\n",
    "      return 'Infant'\n",
    "    elif age <= 18:\n",
    "      return 'Teenager'\n",
    "    elif age <= 64:\n",
    "      return 'Adult'\n",
    "    else:\n",
    "      return 'Third age'"
   ]
  },
  {
   "cell_type": "code",
   "execution_count": 142,
   "id": "bf5c412e",
   "metadata": {},
   "outputs": [
    {
     "data": {
      "application/vnd.microsoft.datawrangler.viewer.v0+json": {
       "columns": [
        {
         "name": "index",
         "rawType": "int64",
         "type": "integer"
        },
        {
         "name": "PassengerId",
         "rawType": "int64",
         "type": "integer"
        },
        {
         "name": "Survived",
         "rawType": "int64",
         "type": "integer"
        },
        {
         "name": "Pclass",
         "rawType": "int64",
         "type": "integer"
        },
        {
         "name": "Name",
         "rawType": "object",
         "type": "string"
        },
        {
         "name": "Sex",
         "rawType": "object",
         "type": "string"
        },
        {
         "name": "Age",
         "rawType": "float64",
         "type": "float"
        },
        {
         "name": "SibSp",
         "rawType": "int64",
         "type": "integer"
        },
        {
         "name": "Parch",
         "rawType": "int64",
         "type": "integer"
        },
        {
         "name": "Ticket",
         "rawType": "object",
         "type": "string"
        },
        {
         "name": "Fare",
         "rawType": "float64",
         "type": "float"
        },
        {
         "name": "Cabin",
         "rawType": "object",
         "type": "unknown"
        },
        {
         "name": "Embarked",
         "rawType": "object",
         "type": "string"
        },
        {
         "name": "Title",
         "rawType": "object",
         "type": "string"
        },
        {
         "name": "FamilySize",
         "rawType": "int64",
         "type": "integer"
        },
        {
         "name": "IsAlone",
         "rawType": "int64",
         "type": "integer"
        },
        {
         "name": "AgeGroup",
         "rawType": "object",
         "type": "string"
        },
        {
         "name": "IsMother",
         "rawType": "int64",
         "type": "integer"
        },
        {
         "name": "FareAboveMedian",
         "rawType": "int64",
         "type": "integer"
        },
        {
         "name": "FarePerPerson",
         "rawType": "float64",
         "type": "float"
        },
        {
         "name": "FamilySurvivalID",
         "rawType": "object",
         "type": "string"
        },
        {
         "name": "LastName",
         "rawType": "object",
         "type": "string"
        },
        {
         "name": "CabinKnown",
         "rawType": "int64",
         "type": "integer"
        }
       ],
       "ref": "2c48f1fe-57dc-4f38-9a04-80b4a3cc3b70",
       "rows": [
        [
         "0",
         "1",
         "0",
         "3",
         "Braund, Mr. Owen Harris",
         "male",
         "22.0",
         "1",
         "0",
         "A/5 21171",
         "7.25",
         null,
         "S",
         "Mr",
         "2",
         "0",
         "Adult",
         "0",
         "0",
         "7.25",
         "A/5 21171_Braund",
         "Braund",
         "0"
        ],
        [
         "1",
         "2",
         "1",
         "1",
         "Cumings, Mrs. John Bradley (Florence Briggs Thayer)",
         "female",
         "38.0",
         "1",
         "0",
         "PC 17599",
         "71.2833",
         "C85",
         "C",
         "Mrs",
         "2",
         "0",
         "Adult",
         "0",
         "1",
         "71.2833",
         "PC 17599_Cumings",
         "Cumings",
         "1"
        ],
        [
         "2",
         "3",
         "1",
         "3",
         "Heikkinen, Miss. Laina",
         "female",
         "26.0",
         "0",
         "0",
         "STON/O2. 3101282",
         "7.925",
         null,
         "S",
         "Miss",
         "1",
         "1",
         "Adult",
         "0",
         "0",
         "7.925",
         "STON/O2. 3101282_Heikkinen",
         "Heikkinen",
         "0"
        ],
        [
         "3",
         "4",
         "1",
         "1",
         "Futrelle, Mrs. Jacques Heath (Lily May Peel)",
         "female",
         "35.0",
         "1",
         "0",
         "113803",
         "53.1",
         "C123",
         "S",
         "Mrs",
         "2",
         "0",
         "Adult",
         "0",
         "1",
         "26.55",
         "113803_Futrelle",
         "Futrelle",
         "1"
        ],
        [
         "4",
         "5",
         "0",
         "3",
         "Allen, Mr. William Henry",
         "male",
         "35.0",
         "0",
         "0",
         "373450",
         "8.05",
         null,
         "S",
         "Mr",
         "1",
         "1",
         "Adult",
         "0",
         "0",
         "8.05",
         "373450_Allen",
         "Allen",
         "0"
        ]
       ],
       "shape": {
        "columns": 22,
        "rows": 5
       }
      },
      "text/html": [
       "<div>\n",
       "<style scoped>\n",
       "    .dataframe tbody tr th:only-of-type {\n",
       "        vertical-align: middle;\n",
       "    }\n",
       "\n",
       "    .dataframe tbody tr th {\n",
       "        vertical-align: top;\n",
       "    }\n",
       "\n",
       "    .dataframe thead th {\n",
       "        text-align: right;\n",
       "    }\n",
       "</style>\n",
       "<table border=\"1\" class=\"dataframe\">\n",
       "  <thead>\n",
       "    <tr style=\"text-align: right;\">\n",
       "      <th></th>\n",
       "      <th>PassengerId</th>\n",
       "      <th>Survived</th>\n",
       "      <th>Pclass</th>\n",
       "      <th>Name</th>\n",
       "      <th>Sex</th>\n",
       "      <th>Age</th>\n",
       "      <th>SibSp</th>\n",
       "      <th>Parch</th>\n",
       "      <th>Ticket</th>\n",
       "      <th>Fare</th>\n",
       "      <th>...</th>\n",
       "      <th>Title</th>\n",
       "      <th>FamilySize</th>\n",
       "      <th>IsAlone</th>\n",
       "      <th>AgeGroup</th>\n",
       "      <th>IsMother</th>\n",
       "      <th>FareAboveMedian</th>\n",
       "      <th>FarePerPerson</th>\n",
       "      <th>FamilySurvivalID</th>\n",
       "      <th>LastName</th>\n",
       "      <th>CabinKnown</th>\n",
       "    </tr>\n",
       "  </thead>\n",
       "  <tbody>\n",
       "    <tr>\n",
       "      <th>0</th>\n",
       "      <td>1</td>\n",
       "      <td>0</td>\n",
       "      <td>3</td>\n",
       "      <td>Braund, Mr. Owen Harris</td>\n",
       "      <td>male</td>\n",
       "      <td>22.0</td>\n",
       "      <td>1</td>\n",
       "      <td>0</td>\n",
       "      <td>A/5 21171</td>\n",
       "      <td>7.2500</td>\n",
       "      <td>...</td>\n",
       "      <td>Mr</td>\n",
       "      <td>2</td>\n",
       "      <td>0</td>\n",
       "      <td>Adult</td>\n",
       "      <td>0</td>\n",
       "      <td>0</td>\n",
       "      <td>7.2500</td>\n",
       "      <td>A/5 21171_Braund</td>\n",
       "      <td>Braund</td>\n",
       "      <td>0</td>\n",
       "    </tr>\n",
       "    <tr>\n",
       "      <th>1</th>\n",
       "      <td>2</td>\n",
       "      <td>1</td>\n",
       "      <td>1</td>\n",
       "      <td>Cumings, Mrs. John Bradley (Florence Briggs Th...</td>\n",
       "      <td>female</td>\n",
       "      <td>38.0</td>\n",
       "      <td>1</td>\n",
       "      <td>0</td>\n",
       "      <td>PC 17599</td>\n",
       "      <td>71.2833</td>\n",
       "      <td>...</td>\n",
       "      <td>Mrs</td>\n",
       "      <td>2</td>\n",
       "      <td>0</td>\n",
       "      <td>Adult</td>\n",
       "      <td>0</td>\n",
       "      <td>1</td>\n",
       "      <td>71.2833</td>\n",
       "      <td>PC 17599_Cumings</td>\n",
       "      <td>Cumings</td>\n",
       "      <td>1</td>\n",
       "    </tr>\n",
       "    <tr>\n",
       "      <th>2</th>\n",
       "      <td>3</td>\n",
       "      <td>1</td>\n",
       "      <td>3</td>\n",
       "      <td>Heikkinen, Miss. Laina</td>\n",
       "      <td>female</td>\n",
       "      <td>26.0</td>\n",
       "      <td>0</td>\n",
       "      <td>0</td>\n",
       "      <td>STON/O2. 3101282</td>\n",
       "      <td>7.9250</td>\n",
       "      <td>...</td>\n",
       "      <td>Miss</td>\n",
       "      <td>1</td>\n",
       "      <td>1</td>\n",
       "      <td>Adult</td>\n",
       "      <td>0</td>\n",
       "      <td>0</td>\n",
       "      <td>7.9250</td>\n",
       "      <td>STON/O2. 3101282_Heikkinen</td>\n",
       "      <td>Heikkinen</td>\n",
       "      <td>0</td>\n",
       "    </tr>\n",
       "    <tr>\n",
       "      <th>3</th>\n",
       "      <td>4</td>\n",
       "      <td>1</td>\n",
       "      <td>1</td>\n",
       "      <td>Futrelle, Mrs. Jacques Heath (Lily May Peel)</td>\n",
       "      <td>female</td>\n",
       "      <td>35.0</td>\n",
       "      <td>1</td>\n",
       "      <td>0</td>\n",
       "      <td>113803</td>\n",
       "      <td>53.1000</td>\n",
       "      <td>...</td>\n",
       "      <td>Mrs</td>\n",
       "      <td>2</td>\n",
       "      <td>0</td>\n",
       "      <td>Adult</td>\n",
       "      <td>0</td>\n",
       "      <td>1</td>\n",
       "      <td>26.5500</td>\n",
       "      <td>113803_Futrelle</td>\n",
       "      <td>Futrelle</td>\n",
       "      <td>1</td>\n",
       "    </tr>\n",
       "    <tr>\n",
       "      <th>4</th>\n",
       "      <td>5</td>\n",
       "      <td>0</td>\n",
       "      <td>3</td>\n",
       "      <td>Allen, Mr. William Henry</td>\n",
       "      <td>male</td>\n",
       "      <td>35.0</td>\n",
       "      <td>0</td>\n",
       "      <td>0</td>\n",
       "      <td>373450</td>\n",
       "      <td>8.0500</td>\n",
       "      <td>...</td>\n",
       "      <td>Mr</td>\n",
       "      <td>1</td>\n",
       "      <td>1</td>\n",
       "      <td>Adult</td>\n",
       "      <td>0</td>\n",
       "      <td>0</td>\n",
       "      <td>8.0500</td>\n",
       "      <td>373450_Allen</td>\n",
       "      <td>Allen</td>\n",
       "      <td>0</td>\n",
       "    </tr>\n",
       "  </tbody>\n",
       "</table>\n",
       "<p>5 rows × 22 columns</p>\n",
       "</div>"
      ],
      "text/plain": [
       "   PassengerId  Survived  Pclass  \\\n",
       "0            1         0       3   \n",
       "1            2         1       1   \n",
       "2            3         1       3   \n",
       "3            4         1       1   \n",
       "4            5         0       3   \n",
       "\n",
       "                                                Name     Sex   Age  SibSp  \\\n",
       "0                            Braund, Mr. Owen Harris    male  22.0      1   \n",
       "1  Cumings, Mrs. John Bradley (Florence Briggs Th...  female  38.0      1   \n",
       "2                             Heikkinen, Miss. Laina  female  26.0      0   \n",
       "3       Futrelle, Mrs. Jacques Heath (Lily May Peel)  female  35.0      1   \n",
       "4                           Allen, Mr. William Henry    male  35.0      0   \n",
       "\n",
       "   Parch            Ticket     Fare  ... Title FamilySize IsAlone  AgeGroup  \\\n",
       "0      0         A/5 21171   7.2500  ...    Mr          2       0     Adult   \n",
       "1      0          PC 17599  71.2833  ...   Mrs          2       0     Adult   \n",
       "2      0  STON/O2. 3101282   7.9250  ...  Miss          1       1     Adult   \n",
       "3      0            113803  53.1000  ...   Mrs          2       0     Adult   \n",
       "4      0            373450   8.0500  ...    Mr          1       1     Adult   \n",
       "\n",
       "   IsMother FareAboveMedian  FarePerPerson            FamilySurvivalID  \\\n",
       "0         0               0         7.2500            A/5 21171_Braund   \n",
       "1         0               1        71.2833            PC 17599_Cumings   \n",
       "2         0               0         7.9250  STON/O2. 3101282_Heikkinen   \n",
       "3         0               1        26.5500             113803_Futrelle   \n",
       "4         0               0         8.0500                373450_Allen   \n",
       "\n",
       "    LastName CabinKnown  \n",
       "0     Braund          0  \n",
       "1    Cumings          1  \n",
       "2  Heikkinen          0  \n",
       "3   Futrelle          1  \n",
       "4      Allen          0  \n",
       "\n",
       "[5 rows x 22 columns]"
      ]
     },
     "execution_count": 142,
     "metadata": {},
     "output_type": "execute_result"
    }
   ],
   "source": [
    "titanic_procesado = df.copy()\n",
    "titanic_procesado['Title'] = titanic_procesado['Name'].apply(lambda x: re.search(r' ([A-Za-z]+)\\.', x).group(1))\n",
    "titanic_procesado['FamilySize'] = titanic_procesado['SibSp'] + titanic_procesado['Parch'] + 1\n",
    "titanic_procesado['IsAlone'] = (titanic_procesado['FamilySize'] == 1).astype(int)\n",
    "titanic_procesado['AgeGroup'] = titanic_procesado['Age'].apply(get_age_group)\n",
    "titanic_procesado['IsMother'] = ((titanic_procesado['Sex'] == 'female') &\n",
    "                      (titanic_procesado['Age'] >= 16) &  # Madres más jóvenes\n",
    "                      (titanic_procesado['Parch'] > 0) &\n",
    "                      ((titanic_procesado['SibSp'] > 0) | (titanic_procesado['Parch'] > 1)) &  # Más evidencia familiar\n",
    "                      (~titanic_procesado['Title'].isin(['Miss', 'Ms']))).astype(int)  # Excluir solteras\n",
    "titanic_procesado['FareAboveMedian'] = (titanic_procesado['Fare'] > titanic_procesado['Fare'].mean()).astype(int)\n",
    "titanic_procesado['FarePerPerson'] = titanic_procesado['Fare'] / (titanic_procesado.groupby('Ticket')['PassengerId'].transform('count'))\n",
    "titanic_procesado['FamilySurvivalID'] = titanic_procesado['Ticket'].astype(str) + '_' + titanic_procesado['Name'].str.split(',').str[0]\n",
    "titanic_procesado['LastName'] = titanic_procesado['Name'].str.split(',').str[0]\n",
    "titanic_procesado['CabinKnown'] = titanic_procesado['Cabin'].notna().astype(int)\n",
    "titanic_procesado.head()"
   ]
  },
  {
   "cell_type": "code",
   "execution_count": 143,
   "id": "e47ec69b",
   "metadata": {},
   "outputs": [
    {
     "name": "stdout",
     "output_type": "stream",
     "text": [
      "Correlación de cada variable con Survived:\n"
     ]
    },
    {
     "data": {
      "application/vnd.microsoft.datawrangler.viewer.v0+json": {
       "columns": [
        {
         "name": "index",
         "rawType": "object",
         "type": "string"
        },
        {
         "name": "Correlation_with_Survived",
         "rawType": "float64",
         "type": "float"
        }
       ],
       "ref": "0ae388da-0197-41a4-a5e2-cabc0cf39eb8",
       "rows": [
        [
         "Name",
         "1.0"
        ],
        [
         "Ticket",
         "0.7731530992435766"
        ],
        [
         "Sex",
         "0.7503211705283558"
        ],
        [
         "FamilySurvivalID",
         "0.7483861826406181"
        ],
        [
         "LastName",
         "0.6820878409749123"
        ],
        [
         "Title",
         "0.6269174821539102"
        ],
        [
         "Cabin",
         "0.6254861274875169"
        ],
        [
         "CabinKnown",
         "0.4714611856341441"
        ],
        [
         "FareAboveMedian",
         "0.36730646434207087"
        ],
        [
         "FarePerPerson",
         "0.3105001483910527"
        ],
        [
         "IsAlone",
         "0.306469490761864"
        ],
        [
         "FamilySize",
         "0.2871031013722101"
        ],
        [
         "Fare",
         "0.2653867232360603"
        ],
        [
         "Pclass",
         "0.20546620572189253"
        ],
        [
         "Age",
         "0.20102711875608462"
        ],
        [
         "AgeGroup",
         "0.18446513336304918"
        ],
        [
         "SibSp",
         "0.17565167357478817"
        ],
        [
         "IsMother",
         "0.16883919829253577"
        ],
        [
         "Parch",
         "0.14707996000393891"
        ],
        [
         "PassengerId",
         "0.1409812661470784"
        ],
        [
         "Embarked",
         "0.09914618788315341"
        ]
       ],
       "shape": {
        "columns": 1,
        "rows": 21
       }
      },
      "text/html": [
       "<div>\n",
       "<style scoped>\n",
       "    .dataframe tbody tr th:only-of-type {\n",
       "        vertical-align: middle;\n",
       "    }\n",
       "\n",
       "    .dataframe tbody tr th {\n",
       "        vertical-align: top;\n",
       "    }\n",
       "\n",
       "    .dataframe thead th {\n",
       "        text-align: right;\n",
       "    }\n",
       "</style>\n",
       "<table border=\"1\" class=\"dataframe\">\n",
       "  <thead>\n",
       "    <tr style=\"text-align: right;\">\n",
       "      <th></th>\n",
       "      <th>Correlation_with_Survived</th>\n",
       "    </tr>\n",
       "  </thead>\n",
       "  <tbody>\n",
       "    <tr>\n",
       "      <th>Name</th>\n",
       "      <td>1.000000</td>\n",
       "    </tr>\n",
       "    <tr>\n",
       "      <th>Ticket</th>\n",
       "      <td>0.773153</td>\n",
       "    </tr>\n",
       "    <tr>\n",
       "      <th>Sex</th>\n",
       "      <td>0.750321</td>\n",
       "    </tr>\n",
       "    <tr>\n",
       "      <th>FamilySurvivalID</th>\n",
       "      <td>0.748386</td>\n",
       "    </tr>\n",
       "    <tr>\n",
       "      <th>LastName</th>\n",
       "      <td>0.682088</td>\n",
       "    </tr>\n",
       "    <tr>\n",
       "      <th>Title</th>\n",
       "      <td>0.626917</td>\n",
       "    </tr>\n",
       "    <tr>\n",
       "      <th>Cabin</th>\n",
       "      <td>0.625486</td>\n",
       "    </tr>\n",
       "    <tr>\n",
       "      <th>CabinKnown</th>\n",
       "      <td>0.471461</td>\n",
       "    </tr>\n",
       "    <tr>\n",
       "      <th>FareAboveMedian</th>\n",
       "      <td>0.367306</td>\n",
       "    </tr>\n",
       "    <tr>\n",
       "      <th>FarePerPerson</th>\n",
       "      <td>0.310500</td>\n",
       "    </tr>\n",
       "    <tr>\n",
       "      <th>IsAlone</th>\n",
       "      <td>0.306469</td>\n",
       "    </tr>\n",
       "    <tr>\n",
       "      <th>FamilySize</th>\n",
       "      <td>0.287103</td>\n",
       "    </tr>\n",
       "    <tr>\n",
       "      <th>Fare</th>\n",
       "      <td>0.265387</td>\n",
       "    </tr>\n",
       "    <tr>\n",
       "      <th>Pclass</th>\n",
       "      <td>0.205466</td>\n",
       "    </tr>\n",
       "    <tr>\n",
       "      <th>Age</th>\n",
       "      <td>0.201027</td>\n",
       "    </tr>\n",
       "    <tr>\n",
       "      <th>AgeGroup</th>\n",
       "      <td>0.184465</td>\n",
       "    </tr>\n",
       "    <tr>\n",
       "      <th>SibSp</th>\n",
       "      <td>0.175652</td>\n",
       "    </tr>\n",
       "    <tr>\n",
       "      <th>IsMother</th>\n",
       "      <td>0.168839</td>\n",
       "    </tr>\n",
       "    <tr>\n",
       "      <th>Parch</th>\n",
       "      <td>0.147080</td>\n",
       "    </tr>\n",
       "    <tr>\n",
       "      <th>PassengerId</th>\n",
       "      <td>0.140981</td>\n",
       "    </tr>\n",
       "    <tr>\n",
       "      <th>Embarked</th>\n",
       "      <td>0.099146</td>\n",
       "    </tr>\n",
       "  </tbody>\n",
       "</table>\n",
       "</div>"
      ],
      "text/plain": [
       "                  Correlation_with_Survived\n",
       "Name                               1.000000\n",
       "Ticket                             0.773153\n",
       "Sex                                0.750321\n",
       "FamilySurvivalID                   0.748386\n",
       "LastName                           0.682088\n",
       "Title                              0.626917\n",
       "Cabin                              0.625486\n",
       "CabinKnown                         0.471461\n",
       "FareAboveMedian                    0.367306\n",
       "FarePerPerson                      0.310500\n",
       "IsAlone                            0.306469\n",
       "FamilySize                         0.287103\n",
       "Fare                               0.265387\n",
       "Pclass                             0.205466\n",
       "Age                                0.201027\n",
       "AgeGroup                           0.184465\n",
       "SibSp                              0.175652\n",
       "IsMother                           0.168839\n",
       "Parch                              0.147080\n",
       "PassengerId                        0.140981\n",
       "Embarked                           0.099146"
      ]
     },
     "execution_count": 143,
     "metadata": {},
     "output_type": "execute_result"
    }
   ],
   "source": [
    "warnings.filterwarnings(\"ignore\")\n",
    "\n",
    "# Calcular correlación de cada variable con Survived\n",
    "survived_corr = {}\n",
    "\n",
    "for column in titanic_procesado.columns:\n",
    "    if column != 'Survived':\n",
    "        with open(os.devnull, \"w\") as f, contextlib.redirect_stdout(f):\n",
    "            corr_value = titanic_procesado[[column, 'Survived']].phik_matrix().iloc[0, 1]\n",
    "        survived_corr[column] = corr_value\n",
    "\n",
    "# Crear DataFrame ordenado\n",
    "correlation_df = pd.DataFrame.from_dict(survived_corr, orient='index', \n",
    "                                       columns=['Correlation_with_Survived'])\n",
    "correlation_df = correlation_df.sort_values('Correlation_with_Survived', \n",
    "                                           ascending=False)\n",
    "\n",
    "print(\"Correlación de cada variable con Survived:\")\n",
    "correlation_df"
   ]
  },
  {
   "cell_type": "code",
   "execution_count": 144,
   "id": "1257500f",
   "metadata": {},
   "outputs": [
    {
     "name": "stdout",
     "output_type": "stream",
     "text": [
      "Análisis de Data Leakage:\n",
      "==================================================\n",
      "PassengerId: Corr=0.141, Unicidad=1.000 → OK\n",
      "Pclass: Corr=0.205, Unicidad=0.003 → OK\n",
      "Name: Corr=1.000, Unicidad=1.000 → LEAKAGE\n",
      "Sex: Corr=0.750, Unicidad=0.002 → OK\n",
      "Age: Corr=0.201, Unicidad=0.080 → OK\n",
      "SibSp: Corr=0.176, Unicidad=0.008 → OK\n",
      "Parch: Corr=0.147, Unicidad=0.008 → OK\n",
      "Ticket: Corr=0.773, Unicidad=0.764 → LEAKAGE\n",
      "Fare: Corr=0.265, Unicidad=0.278 → OK\n",
      "Cabin: Corr=0.625, Unicidad=0.165 → OK\n",
      "Embarked: Corr=0.099, Unicidad=0.003 → OK\n",
      "Title: Corr=0.627, Unicidad=0.019 → OK\n",
      "FamilySize: Corr=0.287, Unicidad=0.010 → OK\n",
      "IsAlone: Corr=0.306, Unicidad=0.002 → OK\n",
      "AgeGroup: Corr=0.184, Unicidad=0.004 → OK\n",
      "IsMother: Corr=0.169, Unicidad=0.002 → OK\n",
      "FareAboveMedian: Corr=0.367, Unicidad=0.002 → OK\n",
      "FarePerPerson: Corr=0.311, Unicidad=0.278 → OK\n",
      "FamilySurvivalID: Corr=0.748, Unicidad=0.829 → LEAKAGE\n",
      "LastName: Corr=0.682, Unicidad=0.749 → OK\n",
      "CabinKnown: Corr=0.471, Unicidad=0.002 → OK\n"
     ]
    }
   ],
   "source": [
    "warnings.filterwarnings(\"ignore\")\n",
    "def check_leakage(variable, target='Survived', threshold=0.7):\n",
    "    \"\"\"\n",
    "    Detecta posible leakage si la variable tiene correlación muy alta\n",
    "    y muchos valores únicos\n",
    "    \"\"\"\n",
    "    if variable not in titanic_procesado.columns or variable == target:\n",
    "        return False\n",
    "        \n",
    "    # Verificar que la variable tenga al menos 2 valores únicos\n",
    "    if titanic_procesado[variable].nunique() < 2:\n",
    "        print(f\"{variable}: Solo 1 valor único → Saltar\")\n",
    "        return False\n",
    "        \n",
    "    try:\n",
    "        # Calcular correlación con manejo de errores\n",
    "        with open(os.devnull, \"w\") as f, contextlib.redirect_stdout(f):\n",
    "            corr = titanic_procesado[[variable, target]].phik_matrix().iloc[0, 1]\n",
    "        \n",
    "        # Verificar unicidad\n",
    "        uniqueness = titanic_procesado[variable].nunique() / len(titanic_procesado)\n",
    "        \n",
    "        # Criterio de leakage\n",
    "        is_leakage = (corr > threshold) and (uniqueness > 0.5)\n",
    "        \n",
    "        print(f\"{variable}: Corr={corr:.3f}, Unicidad={uniqueness:.3f} → {'LEAKAGE' if is_leakage else 'OK'}\")\n",
    "        \n",
    "        return is_leakage\n",
    "        \n",
    "    except Exception as e:\n",
    "        print(f\"{variable}: Error en cálculo → {str(e)[:50]}...\")\n",
    "        return False\n",
    "\n",
    "suspicious_vars = [col for col in titanic_procesado.columns if col != 'Survived']\n",
    "\n",
    "print(\"Análisis de Data Leakage:\")\n",
    "print(\"=\" * 50)\n",
    "\n",
    "for var in suspicious_vars:\n",
    "    check_leakage(var)"
   ]
  },
  {
   "cell_type": "markdown",
   "id": "4f9c6111",
   "metadata": {},
   "source": [
    "Con este analisis evidensiamos datos que son unicos como lo son el nombre, el ticket y el FamilySurvivalID que envista que son unicos al momento de implementar un modelo de maching learning puede perjudicar la capacidad de predicción ya que memozaria patrones muy fuertes que sesgaria su elección."
   ]
  },
  {
   "cell_type": "code",
   "execution_count": 145,
   "id": "089ad2c5",
   "metadata": {},
   "outputs": [],
   "source": [
    "variables_leakage = ['Name', 'Ticket', 'FamilySurvivalID']\n",
    "correlation_df = correlation_df[~correlation_df.index.isin(variables_leakage)]"
   ]
  },
  {
   "cell_type": "code",
   "execution_count": 146,
   "id": "93331ef1",
   "metadata": {},
   "outputs": [
    {
     "data": {
      "image/png": "[encoded data removed]",
      "text/plain": [
       "<Figure size 1000x600 with 1 Axes>"
      ]
     },
     "metadata": {},
     "output_type": "display_data"
    }
   ],
   "source": [
    "plt.figure(figsize=(10, 6))\n",
    "correlation_df['Correlation_with_Survived'].plot(kind='barh', color='steelblue')\n",
    "plt.xlabel('Correlación Phi-K con Survived')\n",
    "plt.title('Correlación de Variables con la Supervivencia')\n",
    "plt.axvline(x=0, color='red', linestyle='--', alpha=0.7)\n",
    "plt.grid(axis='x', alpha=0.3)\n",
    "plt.tight_layout()\n",
    "plt.show()"
   ]
  },
  {
   "cell_type": "markdown",
   "id": "2cf3bfdd",
   "metadata": {},
   "source": [
    "# Análisis y mitigación de sesgos"
   ]
  },
  {
   "cell_type": "code",
   "execution_count": 147,
   "id": "b9d0bc4a",
   "metadata": {},
   "outputs": [
    {
     "name": "stdout",
     "output_type": "stream",
     "text": [
      "             missing_count  missing_%\n",
      "Cabin                  687       77.1\n",
      "PassengerId              0        0.0\n",
      "Pclass                   0        0.0\n",
      "Survived                 0        0.0\n",
      "Name                     0        0.0\n",
      "        column  rate_dead  rate_survived       p_value\n",
      "9        Cabin   0.876138       0.602339  6.741970e-21\n",
      "0  PassengerId   0.000000       0.000000  1.000000e+00\n",
      "2         Name   0.000000       0.000000  1.000000e+00\n",
      "1       Pclass   0.000000       0.000000  1.000000e+00\n",
      "4          Age   0.000000       0.000000  1.000000e+00\n",
      "        column   rate_P1   rate_P2  rate_P3        p_value\n",
      "8        Cabin  0.185185  0.913043  0.97556  9.585484e-122\n",
      "0  PassengerId  0.000000  0.000000  0.00000   1.000000e+00\n",
      "2          Sex  0.000000  0.000000  0.00000   1.000000e+00\n",
      "1         Name  0.000000  0.000000  0.00000   1.000000e+00\n",
      "4        SibSp  0.000000  0.000000  0.00000   1.000000e+00\n",
      "        column  rate_female  rate_male  p_value\n",
      "8        Cabin     0.691083   0.814558  0.00004\n",
      "0  PassengerId     0.000000   0.000000  1.00000\n",
      "2         Name     0.000000   0.000000  1.00000\n",
      "1       Pclass     0.000000   0.000000  1.00000\n",
      "4        SibSp     0.000000   0.000000  1.00000\n"
     ]
    }
   ],
   "source": [
    "def safe_chi2(tab_values):\n",
    "    if np.any(tab_values.sum(axis=0) == 0) or np.any(tab_values.sum(axis=1) == 0):\n",
    "        return 1.0\n",
    "    chi2, p, dof, exp = chi2_contingency(tab_values)\n",
    "    return 1.0 if np.any(exp == 0) else p\n",
    "\n",
    "def missingness_by_group(df, col, group_col):\n",
    "    x = df[[col, group_col]].copy()\n",
    "    x[\"is_missing\"] = x[col].isna().astype(int)\n",
    "    tab = pd.crosstab(x[group_col], x[\"is_missing\"])\n",
    "    for k in [0,1]:\n",
    "        if k not in tab.columns:\n",
    "            tab[k] = 0\n",
    "    p = safe_chi2(tab.values)\n",
    "    rates = x.groupby(group_col)[\"is_missing\"].mean()\n",
    "    return rates, p\n",
    "\n",
    "# Tabla general de faltantes\n",
    "miss_overall = df.isna().sum().to_frame(\"missing_count\")\n",
    "miss_overall[\"missing_%\"] = (df.isna().mean()*100).round(2)\n",
    "print(miss_overall.sort_values(\"missing_%\", ascending=False).head(5))\n",
    "\n",
    "# Sesgo por supervivencia\n",
    "rows = []\n",
    "for col in df.columns:\n",
    "    if col == \"Survived\": continue\n",
    "    rates, p = missingness_by_group(df, col, \"Survived\")\n",
    "    rows.append({\"column\": col, \"rate_dead\": float(rates.get(0, np.nan)),\n",
    "                 \"rate_survived\": float(rates.get(1, np.nan)), \"p_value\": p})\n",
    "miss_vs_survived = pd.DataFrame(rows).sort_values(\"p_value\")\n",
    "print(miss_vs_survived.head())\n",
    "\n",
    "# Sesgo por clase\n",
    "rows = []\n",
    "for col in df.columns:\n",
    "    if col in [\"Survived\",\"Pclass\"]: continue\n",
    "    rates, p = missingness_by_group(df, col, \"Pclass\")\n",
    "    rows.append({\"column\": col, \"rate_P1\": float(rates.get(1, np.nan)),\n",
    "                 \"rate_P2\": float(rates.get(2, np.nan)),\n",
    "                 \"rate_P3\": float(rates.get(3, np.nan)), \"p_value\": p})\n",
    "miss_vs_pclass = pd.DataFrame(rows).sort_values(\"p_value\")\n",
    "print(miss_vs_pclass.head())\n",
    "\n",
    "# Sesgo por género\n",
    "rows = []\n",
    "for col in df.columns:\n",
    "    if col in [\"Survived\",\"Sex\"]: continue\n",
    "    rates, p = missingness_by_group(df, col, \"Sex\")\n",
    "    rows.append({\"column\": col, \"rate_female\": float(rates.get(\"female\", np.nan)),\n",
    "                 \"rate_male\": float(rates.get(\"male\", np.nan)), \"p_value\": p})\n",
    "miss_vs_sex = pd.DataFrame(rows).sort_values(\"p_value\")\n",
    "print(miss_vs_sex.head())"
   ]
  },
  {
   "cell_type": "markdown",
   "id": "7479af45",
   "metadata": {},
   "source": [
    "**Sesgo de supervivencia**\n",
    "\n",
    "Cabin: 87.6% de los no sobrevivientes no tienen dato vs 60.2% de los sobrevivientes (p ≈ 6.7e-21, muy significativo).\n",
    "\n",
    "Age: 22.8% faltante en no sobrevivientes vs 15.2% en sobrevivientes (p ≈ 0.0077, también significativo).\n",
    "\n",
    "Conclusión: hay información sistemáticamente faltante en los no sobrevivientes, sobre todo en Cabin y Age, lo cual puede sesgar el análisis si no se imputa adecuadamente.\n",
    "\n",
    "**Sesgo de clase social**\n",
    "\n",
    "Cabin: en 1ª clase solo falta 18.5%, pero en 2ª falta 91.3% y en 3ª 97.6% (p ≈ 9.6e-122).\n",
    "\n",
    "Age: faltantes más altos en 3ª clase (27.7%) que en 1ª (13.9%) y 2ª (6.0%) (p ≈ 9.9e-11).\n",
    "\n",
    "Conclusión: la calidad de datos es muy desigual según la clase social, siendo los pasajeros de 3ª los más afectados. Esto refleja un sesgo de clase: peor información en clases bajas.\n",
    "\n",
    "**Sesgo de género**\n",
    "\n",
    "Cabin: 81.5% de los hombres sin dato vs 69.1% de las mujeres (p ≈ 4e-5, significativo).\n",
    "\n",
    "Age: hombres con 21.5% faltante vs mujeres 16.9%, pero la diferencia no es estadísticamente significativa (p ≈ 0.12).\n",
    "\n",
    "Conclusión: los hombres tienen más datos faltantes en Cabin. En Age parece haber una tendencia, pero no significativa.\n",
    "\n",
    "**Sesgo histórico (subrepresentación)**\n",
    "\n",
    "De tu tabla de representación (Sex × Pclass × Embarked, que también calculamos antes):\n",
    "\n",
    "Hay grupos muy pequeños, por ejemplo: mujeres de 1ª clase que embarcaron en Q (solo 1 pasajera, 0.11% del dataset).\n",
    "\n",
    "Esto significa que ciertos subgrupos están subrepresentados y cualquier métrica de fairness que se calcule sobre ellos tendrá mucha varianza.\n",
    "\n",
    " Conclusión: existe subrepresentación histórica de ciertos perfiles (clase alta, puerto Q, mujeres solas, etc.), lo que limita la generalización de los análisis."
   ]
  },
  {
   "cell_type": "markdown",
   "id": "8d53c631",
   "metadata": {},
   "source": [
    "# Dataset procesado"
   ]
  },
  {
   "cell_type": "markdown",
   "id": "edb38510",
   "metadata": {},
   "source": [
    "Utilizaremos solo las variables 'Age', 'Pclass' y 'Sex'. Además de los features 'CabinKnown' y 'FareAboveMedian'."
   ]
  },
  {
   "cell_type": "markdown",
   "id": "1583dd0d",
   "metadata": {},
   "source": [
    "Se usa one-hot encoding para las variables 'Pclass' y 'Sex'."
   ]
  },
  {
   "cell_type": "code",
   "execution_count": 148,
   "id": "75448736",
   "metadata": {},
   "outputs": [
    {
     "data": {
      "application/vnd.microsoft.datawrangler.viewer.v0+json": {
       "columns": [
        {
         "name": "index",
         "rawType": "int64",
         "type": "integer"
        },
        {
         "name": "Embarked",
         "rawType": "object",
         "type": "string"
        }
       ],
       "ref": "4f005ef4-b378-4e0c-928a-f99b439e4393",
       "rows": [
        [
         "0",
         "S"
        ],
        [
         "1",
         "C"
        ],
        [
         "2",
         "S"
        ],
        [
         "3",
         "S"
        ],
        [
         "4",
         "S"
        ],
        [
         "5",
         "Q"
        ],
        [
         "6",
         "S"
        ],
        [
         "7",
         "S"
        ],
        [
         "8",
         "S"
        ],
        [
         "9",
         "C"
        ],
        [
         "10",
         "S"
        ],
        [
         "11",
         "S"
        ],
        [
         "12",
         "S"
        ],
        [
         "13",
         "S"
        ],
        [
         "14",
         "S"
        ],
        [
         "15",
         "S"
        ],
        [
         "16",
         "Q"
        ],
        [
         "17",
         "S"
        ],
        [
         "18",
         "S"
        ],
        [
         "19",
         "C"
        ],
        [
         "20",
         "S"
        ],
        [
         "21",
         "S"
        ],
        [
         "22",
         "Q"
        ],
        [
         "23",
         "S"
        ],
        [
         "24",
         "S"
        ],
        [
         "25",
         "S"
        ],
        [
         "26",
         "C"
        ],
        [
         "27",
         "S"
        ],
        [
         "28",
         "Q"
        ],
        [
         "29",
         "S"
        ],
        [
         "30",
         "C"
        ],
        [
         "31",
         "C"
        ],
        [
         "32",
         "Q"
        ],
        [
         "33",
         "S"
        ],
        [
         "34",
         "C"
        ],
        [
         "35",
         "S"
        ],
        [
         "36",
         "C"
        ],
        [
         "37",
         "S"
        ],
        [
         "38",
         "S"
        ],
        [
         "39",
         "C"
        ],
        [
         "40",
         "S"
        ],
        [
         "41",
         "S"
        ],
        [
         "42",
         "C"
        ],
        [
         "43",
         "C"
        ],
        [
         "44",
         "Q"
        ],
        [
         "45",
         "S"
        ],
        [
         "46",
         "Q"
        ],
        [
         "47",
         "Q"
        ],
        [
         "48",
         "C"
        ],
        [
         "49",
         "S"
        ]
       ],
       "shape": {
        "columns": 1,
        "rows": 891
       }
      },
      "text/plain": [
       "0      S\n",
       "1      C\n",
       "2      S\n",
       "3      S\n",
       "4      S\n",
       "      ..\n",
       "886    S\n",
       "887    S\n",
       "888    S\n",
       "889    C\n",
       "890    Q\n",
       "Name: Embarked, Length: 891, dtype: object"
      ]
     },
     "execution_count": 148,
     "metadata": {},
     "output_type": "execute_result"
    }
   ],
   "source": [
    "titanic_procesado['Embarked']"
   ]
  },
  {
   "cell_type": "code",
   "execution_count": 149,
   "id": "34f6e37f",
   "metadata": {},
   "outputs": [
    {
     "data": {
      "application/vnd.microsoft.datawrangler.viewer.v0+json": {
       "columns": [
        {
         "name": "index",
         "rawType": "int64",
         "type": "integer"
        },
        {
         "name": "Age",
         "rawType": "int64",
         "type": "integer"
        },
        {
         "name": "Pclass_2",
         "rawType": "int64",
         "type": "integer"
        },
        {
         "name": "Pclass_3",
         "rawType": "int64",
         "type": "integer"
        },
        {
         "name": "Sex_male",
         "rawType": "int64",
         "type": "integer"
        },
        {
         "name": "CabinKnown",
         "rawType": "int64",
         "type": "integer"
        },
        {
         "name": "FareAboveMedian",
         "rawType": "int64",
         "type": "integer"
        },
        {
         "name": "Embarked_Q",
         "rawType": "int64",
         "type": "integer"
        },
        {
         "name": "Embarked_S",
         "rawType": "int64",
         "type": "integer"
        },
        {
         "name": "IsAlone",
         "rawType": "int64",
         "type": "integer"
        },
        {
         "name": "Survived",
         "rawType": "int64",
         "type": "integer"
        }
       ],
       "ref": "fd582431-51ef-471b-a236-d92805e2b779",
       "rows": [
        [
         "0",
         "22",
         "0",
         "1",
         "1",
         "0",
         "0",
         "0",
         "1",
         "0",
         "0"
        ],
        [
         "1",
         "38",
         "0",
         "0",
         "0",
         "1",
         "1",
         "0",
         "0",
         "0",
         "1"
        ],
        [
         "2",
         "26",
         "0",
         "1",
         "0",
         "0",
         "0",
         "0",
         "1",
         "1",
         "1"
        ],
        [
         "3",
         "35",
         "0",
         "0",
         "0",
         "1",
         "1",
         "0",
         "1",
         "0",
         "1"
        ],
        [
         "4",
         "35",
         "0",
         "1",
         "1",
         "0",
         "0",
         "0",
         "1",
         "1",
         "0"
        ],
        [
         "5",
         "25",
         "0",
         "1",
         "1",
         "0",
         "0",
         "1",
         "0",
         "1",
         "0"
        ],
        [
         "6",
         "54",
         "0",
         "0",
         "1",
         "1",
         "1",
         "0",
         "1",
         "1",
         "0"
        ],
        [
         "7",
         "2",
         "0",
         "1",
         "1",
         "0",
         "0",
         "0",
         "1",
         "0",
         "0"
        ],
        [
         "8",
         "27",
         "0",
         "1",
         "0",
         "0",
         "0",
         "0",
         "1",
         "0",
         "1"
        ],
        [
         "9",
         "14",
         "1",
         "0",
         "0",
         "0",
         "0",
         "0",
         "0",
         "0",
         "1"
        ],
        [
         "10",
         "4",
         "0",
         "1",
         "0",
         "1",
         "0",
         "0",
         "1",
         "0",
         "1"
        ],
        [
         "11",
         "58",
         "0",
         "0",
         "0",
         "1",
         "0",
         "0",
         "1",
         "1",
         "1"
        ],
        [
         "12",
         "20",
         "0",
         "1",
         "1",
         "0",
         "0",
         "0",
         "1",
         "1",
         "0"
        ],
        [
         "13",
         "39",
         "0",
         "1",
         "1",
         "0",
         "0",
         "0",
         "1",
         "0",
         "0"
        ],
        [
         "14",
         "14",
         "0",
         "1",
         "0",
         "0",
         "0",
         "0",
         "1",
         "1",
         "0"
        ],
        [
         "15",
         "55",
         "1",
         "0",
         "0",
         "0",
         "0",
         "0",
         "1",
         "1",
         "1"
        ],
        [
         "16",
         "2",
         "0",
         "1",
         "1",
         "0",
         "0",
         "1",
         "0",
         "0",
         "0"
        ],
        [
         "17",
         "34",
         "1",
         "0",
         "1",
         "0",
         "0",
         "0",
         "1",
         "1",
         "1"
        ],
        [
         "18",
         "31",
         "0",
         "1",
         "0",
         "0",
         "0",
         "0",
         "1",
         "0",
         "0"
        ],
        [
         "19",
         "32",
         "0",
         "1",
         "0",
         "0",
         "0",
         "0",
         "0",
         "1",
         "1"
        ],
        [
         "20",
         "35",
         "1",
         "0",
         "1",
         "0",
         "0",
         "0",
         "1",
         "1",
         "0"
        ],
        [
         "21",
         "34",
         "1",
         "0",
         "1",
         "1",
         "0",
         "0",
         "1",
         "1",
         "1"
        ],
        [
         "22",
         "15",
         "0",
         "1",
         "0",
         "0",
         "0",
         "1",
         "0",
         "1",
         "1"
        ],
        [
         "23",
         "28",
         "0",
         "0",
         "1",
         "1",
         "1",
         "0",
         "1",
         "1",
         "1"
        ],
        [
         "24",
         "8",
         "0",
         "1",
         "0",
         "0",
         "0",
         "0",
         "1",
         "0",
         "0"
        ],
        [
         "25",
         "38",
         "0",
         "1",
         "0",
         "0",
         "0",
         "0",
         "1",
         "0",
         "1"
        ],
        [
         "26",
         "32",
         "0",
         "1",
         "1",
         "0",
         "0",
         "0",
         "0",
         "1",
         "0"
        ],
        [
         "27",
         "19",
         "0",
         "0",
         "1",
         "1",
         "1",
         "0",
         "1",
         "0",
         "0"
        ],
        [
         "28",
         "29",
         "0",
         "1",
         "0",
         "0",
         "0",
         "1",
         "0",
         "1",
         "1"
        ],
        [
         "29",
         "32",
         "0",
         "1",
         "1",
         "0",
         "0",
         "0",
         "1",
         "1",
         "0"
        ],
        [
         "30",
         "40",
         "0",
         "0",
         "1",
         "0",
         "0",
         "0",
         "0",
         "1",
         "0"
        ],
        [
         "31",
         "22",
         "0",
         "0",
         "0",
         "1",
         "1",
         "0",
         "0",
         "0",
         "1"
        ],
        [
         "32",
         "34",
         "0",
         "1",
         "0",
         "0",
         "0",
         "1",
         "0",
         "1",
         "1"
        ],
        [
         "33",
         "66",
         "1",
         "0",
         "1",
         "0",
         "0",
         "0",
         "1",
         "1",
         "0"
        ],
        [
         "34",
         "28",
         "0",
         "0",
         "1",
         "0",
         "1",
         "0",
         "0",
         "0",
         "0"
        ],
        [
         "35",
         "42",
         "0",
         "0",
         "1",
         "0",
         "1",
         "0",
         "1",
         "0",
         "0"
        ],
        [
         "36",
         "23",
         "0",
         "1",
         "1",
         "0",
         "0",
         "0",
         "0",
         "1",
         "1"
        ],
        [
         "37",
         "21",
         "0",
         "1",
         "1",
         "0",
         "0",
         "0",
         "1",
         "1",
         "0"
        ],
        [
         "38",
         "18",
         "0",
         "1",
         "0",
         "0",
         "0",
         "0",
         "1",
         "0",
         "0"
        ],
        [
         "39",
         "14",
         "0",
         "1",
         "0",
         "0",
         "0",
         "0",
         "0",
         "0",
         "1"
        ],
        [
         "40",
         "40",
         "0",
         "1",
         "0",
         "0",
         "0",
         "0",
         "1",
         "0",
         "0"
        ],
        [
         "41",
         "27",
         "1",
         "0",
         "0",
         "0",
         "0",
         "0",
         "1",
         "0",
         "0"
        ],
        [
         "42",
         "32",
         "0",
         "1",
         "1",
         "0",
         "0",
         "0",
         "0",
         "1",
         "0"
        ],
        [
         "43",
         "3",
         "1",
         "0",
         "0",
         "0",
         "1",
         "0",
         "0",
         "0",
         "1"
        ],
        [
         "44",
         "19",
         "0",
         "1",
         "0",
         "0",
         "0",
         "1",
         "0",
         "1",
         "1"
        ],
        [
         "45",
         "31",
         "0",
         "1",
         "1",
         "0",
         "0",
         "0",
         "1",
         "1",
         "0"
        ],
        [
         "46",
         "29",
         "0",
         "1",
         "1",
         "0",
         "0",
         "1",
         "0",
         "0",
         "0"
        ],
        [
         "47",
         "34",
         "0",
         "1",
         "0",
         "0",
         "0",
         "1",
         "0",
         "1",
         "1"
        ],
        [
         "48",
         "14",
         "0",
         "1",
         "1",
         "0",
         "0",
         "0",
         "0",
         "0",
         "0"
        ],
        [
         "49",
         "18",
         "0",
         "1",
         "0",
         "0",
         "0",
         "0",
         "1",
         "0",
         "0"
        ]
       ],
       "shape": {
        "columns": 10,
        "rows": 891
       }
      },
      "text/html": [
       "<div>\n",
       "<style scoped>\n",
       "    .dataframe tbody tr th:only-of-type {\n",
       "        vertical-align: middle;\n",
       "    }\n",
       "\n",
       "    .dataframe tbody tr th {\n",
       "        vertical-align: top;\n",
       "    }\n",
       "\n",
       "    .dataframe thead th {\n",
       "        text-align: right;\n",
       "    }\n",
       "</style>\n",
       "<table border=\"1\" class=\"dataframe\">\n",
       "  <thead>\n",
       "    <tr style=\"text-align: right;\">\n",
       "      <th></th>\n",
       "      <th>Age</th>\n",
       "      <th>Pclass_2</th>\n",
       "      <th>Pclass_3</th>\n",
       "      <th>Sex_male</th>\n",
       "      <th>CabinKnown</th>\n",
       "      <th>FareAboveMedian</th>\n",
       "      <th>Embarked_Q</th>\n",
       "      <th>Embarked_S</th>\n",
       "      <th>IsAlone</th>\n",
       "      <th>Survived</th>\n",
       "    </tr>\n",
       "  </thead>\n",
       "  <tbody>\n",
       "    <tr>\n",
       "      <th>0</th>\n",
       "      <td>22</td>\n",
       "      <td>0</td>\n",
       "      <td>1</td>\n",
       "      <td>1</td>\n",
       "      <td>0</td>\n",
       "      <td>0</td>\n",
       "      <td>0</td>\n",
       "      <td>1</td>\n",
       "      <td>0</td>\n",
       "      <td>0</td>\n",
       "    </tr>\n",
       "    <tr>\n",
       "      <th>1</th>\n",
       "      <td>38</td>\n",
       "      <td>0</td>\n",
       "      <td>0</td>\n",
       "      <td>0</td>\n",
       "      <td>1</td>\n",
       "      <td>1</td>\n",
       "      <td>0</td>\n",
       "      <td>0</td>\n",
       "      <td>0</td>\n",
       "      <td>1</td>\n",
       "    </tr>\n",
       "    <tr>\n",
       "      <th>2</th>\n",
       "      <td>26</td>\n",
       "      <td>0</td>\n",
       "      <td>1</td>\n",
       "      <td>0</td>\n",
       "      <td>0</td>\n",
       "      <td>0</td>\n",
       "      <td>0</td>\n",
       "      <td>1</td>\n",
       "      <td>1</td>\n",
       "      <td>1</td>\n",
       "    </tr>\n",
       "    <tr>\n",
       "      <th>3</th>\n",
       "      <td>35</td>\n",
       "      <td>0</td>\n",
       "      <td>0</td>\n",
       "      <td>0</td>\n",
       "      <td>1</td>\n",
       "      <td>1</td>\n",
       "      <td>0</td>\n",
       "      <td>1</td>\n",
       "      <td>0</td>\n",
       "      <td>1</td>\n",
       "    </tr>\n",
       "    <tr>\n",
       "      <th>4</th>\n",
       "      <td>35</td>\n",
       "      <td>0</td>\n",
       "      <td>1</td>\n",
       "      <td>1</td>\n",
       "      <td>0</td>\n",
       "      <td>0</td>\n",
       "      <td>0</td>\n",
       "      <td>1</td>\n",
       "      <td>1</td>\n",
       "      <td>0</td>\n",
       "    </tr>\n",
       "    <tr>\n",
       "      <th>...</th>\n",
       "      <td>...</td>\n",
       "      <td>...</td>\n",
       "      <td>...</td>\n",
       "      <td>...</td>\n",
       "      <td>...</td>\n",
       "      <td>...</td>\n",
       "      <td>...</td>\n",
       "      <td>...</td>\n",
       "      <td>...</td>\n",
       "      <td>...</td>\n",
       "    </tr>\n",
       "    <tr>\n",
       "      <th>886</th>\n",
       "      <td>27</td>\n",
       "      <td>1</td>\n",
       "      <td>0</td>\n",
       "      <td>1</td>\n",
       "      <td>0</td>\n",
       "      <td>0</td>\n",
       "      <td>0</td>\n",
       "      <td>1</td>\n",
       "      <td>1</td>\n",
       "      <td>0</td>\n",
       "    </tr>\n",
       "    <tr>\n",
       "      <th>887</th>\n",
       "      <td>19</td>\n",
       "      <td>0</td>\n",
       "      <td>0</td>\n",
       "      <td>0</td>\n",
       "      <td>1</td>\n",
       "      <td>0</td>\n",
       "      <td>0</td>\n",
       "      <td>1</td>\n",
       "      <td>1</td>\n",
       "      <td>1</td>\n",
       "    </tr>\n",
       "    <tr>\n",
       "      <th>888</th>\n",
       "      <td>27</td>\n",
       "      <td>0</td>\n",
       "      <td>1</td>\n",
       "      <td>0</td>\n",
       "      <td>0</td>\n",
       "      <td>0</td>\n",
       "      <td>0</td>\n",
       "      <td>1</td>\n",
       "      <td>0</td>\n",
       "      <td>0</td>\n",
       "    </tr>\n",
       "    <tr>\n",
       "      <th>889</th>\n",
       "      <td>26</td>\n",
       "      <td>0</td>\n",
       "      <td>0</td>\n",
       "      <td>1</td>\n",
       "      <td>1</td>\n",
       "      <td>0</td>\n",
       "      <td>0</td>\n",
       "      <td>0</td>\n",
       "      <td>1</td>\n",
       "      <td>1</td>\n",
       "    </tr>\n",
       "    <tr>\n",
       "      <th>890</th>\n",
       "      <td>32</td>\n",
       "      <td>0</td>\n",
       "      <td>1</td>\n",
       "      <td>1</td>\n",
       "      <td>0</td>\n",
       "      <td>0</td>\n",
       "      <td>1</td>\n",
       "      <td>0</td>\n",
       "      <td>1</td>\n",
       "      <td>0</td>\n",
       "    </tr>\n",
       "  </tbody>\n",
       "</table>\n",
       "<p>891 rows × 10 columns</p>\n",
       "</div>"
      ],
      "text/plain": [
       "     Age  Pclass_2  Pclass_3  Sex_male  CabinKnown  FareAboveMedian  \\\n",
       "0     22         0         1         1           0                0   \n",
       "1     38         0         0         0           1                1   \n",
       "2     26         0         1         0           0                0   \n",
       "3     35         0         0         0           1                1   \n",
       "4     35         0         1         1           0                0   \n",
       "..   ...       ...       ...       ...         ...              ...   \n",
       "886   27         1         0         1           0                0   \n",
       "887   19         0         0         0           1                0   \n",
       "888   27         0         1         0           0                0   \n",
       "889   26         0         0         1           1                0   \n",
       "890   32         0         1         1           0                0   \n",
       "\n",
       "     Embarked_Q  Embarked_S  IsAlone  Survived  \n",
       "0             0           1        0         0  \n",
       "1             0           0        0         1  \n",
       "2             0           1        1         1  \n",
       "3             0           1        0         1  \n",
       "4             0           1        1         0  \n",
       "..          ...         ...      ...       ...  \n",
       "886           0           1        1         0  \n",
       "887           0           1        1         1  \n",
       "888           0           1        0         0  \n",
       "889           0           0        1         1  \n",
       "890           1           0        1         0  \n",
       "\n",
       "[891 rows x 10 columns]"
      ]
     },
     "execution_count": 149,
     "metadata": {},
     "output_type": "execute_result"
    }
   ],
   "source": [
    "titanic_procesado = titanic_procesado[['Age', 'Pclass','Sex', 'CabinKnown', 'FareAboveMedian','Embarked','IsAlone', 'Survived']]\n",
    "df_ = pd.get_dummies(titanic_procesado, columns=['Pclass', 'Sex', 'Embarked'], drop_first=True)\n",
    "df_ = df_[['Age', 'Pclass_2', 'Pclass_3', 'Sex_male', 'CabinKnown', 'FareAboveMedian','Embarked_Q', 'Embarked_S', 'IsAlone', 'Survived']].astype(int)\n",
    "df_"
   ]
  },
  {
   "cell_type": "code",
   "execution_count": 150,
   "id": "d647fc4a",
   "metadata": {},
   "outputs": [],
   "source": [
    "df_.to_csv(r\"..\\data\\processed.csv\", index=False)"
   ]
  }
 ],
 "metadata": {
  "kernelspec": {
   "display_name": "Python 3",
   "language": "python",
   "name": "python3"
  },
  "language_info": {
   "codemirror_mode": {
    "name": "ipython",
    "version": 3
   },
   "file_extension": ".py",
   "mimetype": "text/x-python",
   "name": "python",
   "nbconvert_exporter": "python",
   "pygments_lexer": "ipython3",
   "version": "3.13.5"
  }
 },
 "nbformat": 4,
 "nbformat_minor": 5
}
